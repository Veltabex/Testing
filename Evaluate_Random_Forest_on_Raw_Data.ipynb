{
  "cells": [
    {
      "cell_type": "markdown",
      "source": [
        "# **Evaluate Random Forest on Raw Data**"
      ],
      "metadata": {
        "id": "fdRuMBgv0B_u"
      }
    },
    {
      "cell_type": "code",
      "source": [
        "%time\n",
        "# ==============================================================================\n",
        "# FINAL SCRIPT: IoT Malware Detection from Google Drive\n",
        "# ==============================================================================\n",
        "\n",
        "# --- Step 1: Mount your Google Drive ---\n",
        "# This will prompt you for authorization. Follow the link to get your code.\n",
        "from google.colab import drive\n",
        "drive.mount('/content/drive')\n",
        "print(\"✅ Google Drive mounted successfully.\")"
      ],
      "metadata": {
        "colab": {
          "base_uri": "https://localhost:8080/"
        },
        "id": "GCfIKR_QdLEt",
        "outputId": "ee12c656-3999-48f2-df41-73f777e97ffb"
      },
      "execution_count": null,
      "outputs": [
        {
          "output_type": "stream",
          "name": "stdout",
          "text": [
            "CPU times: user 4 µs, sys: 0 ns, total: 4 µs\n",
            "Wall time: 8.11 µs\n",
            "Drive already mounted at /content/drive; to attempt to forcibly remount, call drive.mount(\"/content/drive\", force_remount=True).\n",
            "✅ Google Drive mounted successfully.\n"
          ]
        }
      ]
    },
    {
      "cell_type": "code",
      "execution_count": null,
      "metadata": {
        "id": "p-DXmVFpf3tP",
        "colab": {
          "base_uri": "https://localhost:8080/"
        },
        "outputId": "17cd10bf-8064-468c-ce0c-33dc7b6b9bfc"
      },
      "outputs": [
        {
          "output_type": "stream",
          "name": "stdout",
          "text": [
            "CPU times: user 3 µs, sys: 0 ns, total: 3 µs\n",
            "Wall time: 7.15 µs\n"
          ]
        }
      ],
      "source": [
        "%time\n",
        "# --- Step 2: Import all necessary libraries ---\n",
        "import pandas as pd\n",
        "import numpy as np\n",
        "import matplotlib.pyplot as plt\n",
        "import seaborn as sns\n",
        "from sklearn.model_selection import train_test_split, cross_val_score, StratifiedKFold # Import StratifiedKFold\n",
        "from sklearn.ensemble import RandomForestClassifier\n",
        "from sklearn.preprocessing import StandardScaler\n",
        "from sklearn.metrics import classification_report, confusion_matrix, accuracy_score, f1_score, roc_auc_score, balanced_accuracy_score, precision_recall_curve, average_precision_score # Import additional metrics\n",
        "from imblearn.over_sampling import SMOTE\n",
        "# from imblearn.under_sampling import RandomUnderSampler # Import RandomUnderSampler\n",
        "from sklearn.svm import SVC\n",
        "import joblib\n",
        "import os\n",
        "import time\n",
        "import warnings\n",
        "from collections import deque # Import deque\n",
        "from datetime import datetime # Import datetime\n",
        "import json # Import json for saving performance data\n",
        "warnings.filterwarnings('ignore')"
      ]
    },
    {
      "cell_type": "code",
      "source": [
        "%time\n",
        "# --- Step 3: Set the path to your dataset in Google Drive ---\n",
        "# IMPORTANT: Make sure this path exactly matches your folder structure.\n",
        "DATASET_ROOT_PATH = '/content/drive/MyDrive/Colab Notebooks/dataset'"
      ],
      "metadata": {
        "id": "99KqB00OQR1M",
        "colab": {
          "base_uri": "https://localhost:8080/"
        },
        "outputId": "8a4782b8-0455-4820-be11-945047f2134a"
      },
      "execution_count": null,
      "outputs": [
        {
          "output_type": "stream",
          "name": "stdout",
          "text": [
            "CPU times: user 3 µs, sys: 0 ns, total: 3 µs\n",
            "Wall time: 6.68 µs\n"
          ]
        }
      ]
    },
    {
      "cell_type": "code",
      "execution_count": null,
      "metadata": {
        "colab": {
          "base_uri": "https://localhost:8080/"
        },
        "id": "2wvXoHcFw97B",
        "outputId": "bc10ec39-fe89-4fa4-fc8f-11b2c75eb397"
      },
      "outputs": [
        {
          "output_type": "stream",
          "name": "stdout",
          "text": [
            "CPU times: user 4 µs, sys: 0 ns, total: 4 µs\n",
            "Wall time: 6.91 µs\n",
            "Drive already mounted at /content/drive; to attempt to forcibly remount, call drive.mount(\"/content/drive\", force_remount=True).\n",
            "✅ Google Drive mounted successfully.\n",
            "\n",
            "Found 90 data files\n",
            "Sample files: ['/content/drive/MyDrive/Colab Notebooks/dataset/demonstrate_structure.csv', '/content/drive/MyDrive/Colab Notebooks/dataset/SimpleHome_XCS7_1003_WHT_Security_Camera/benign_traffic.csv', '/content/drive/MyDrive/Colab Notebooks/dataset/SimpleHome_XCS7_1003_WHT_Security_Camera/gafgyt_attacks/combo.csv', '/content/drive/MyDrive/Colab Notebooks/dataset/SimpleHome_XCS7_1003_WHT_Security_Camera/gafgyt_attacks/junk.csv', '/content/drive/MyDrive/Colab Notebooks/dataset/SimpleHome_XCS7_1003_WHT_Security_Camera/gafgyt_attacks/scan.csv']\n"
          ]
        }
      ],
      "source": [
        "%time\n",
        "# ==============================================================================\n",
        "# FINAL SCRIPT: IoT Malware Detection from Google Drive\n",
        "# ==============================================================================\n",
        "\n",
        "# --- Step 1: Mount your Google Drive ---\n",
        "# This will prompt you for authorization. Follow the link to get your code.\n",
        "from google.colab import drive\n",
        "drive.mount('/content/drive')\n",
        "print(\"✅ Google Drive mounted successfully.\")\n",
        "\n",
        "# --- Step 2: Import all necessary libraries ---\n",
        "import pandas as pd\n",
        "import numpy as np\n",
        "import matplotlib.pyplot as plt\n",
        "import seaborn as sns\n",
        "from sklearn.model_selection import train_test_split, cross_val_score, StratifiedKFold # Import StratifiedKFold\n",
        "from sklearn.ensemble import RandomForestClassifier\n",
        "from sklearn.preprocessing import StandardScaler\n",
        "from sklearn.metrics import classification_report, confusion_matrix, accuracy_score, f1_score, roc_auc_score, balanced_accuracy_score, precision_recall_curve, average_precision_score # Import additional metrics\n",
        "from imblearn.over_sampling import SMOTE\n",
        "# from imblearn.under_sampling import RandomUnderSampler # Import RandomUnderSampler\n",
        "from sklearn.svm import SVC\n",
        "import joblib\n",
        "import os\n",
        "import time\n",
        "import warnings\n",
        "from collections import deque # Import deque\n",
        "from datetime import datetime # Import datetime\n",
        "import json # Import json for saving performance data\n",
        "warnings.filterwarnings('ignore')\n",
        "\n",
        "# --- Step 3: Set the path to your dataset in Google Drive ---\n",
        "# IMPORTANT: Make sure this path exactly matches your folder structure.\n",
        "DATASET_ROOT_PATH = '/content/drive/MyDrive/Colab Notebooks/dataset'\n",
        "\n",
        "# Define constants from the configuration prompt\n",
        "MAX_ROWS_PER_FILE = 100_000\n",
        "SAMPLE_PER_FILE = 1_000\n",
        "\n",
        "# List available CSV files by walking through the directory and its subdirectories\n",
        "import os\n",
        "\n",
        "data_files = []\n",
        "for dirpath, _, filenames in os.walk(DATASET_ROOT_PATH):\n",
        "    for f in filenames:\n",
        "        if f.endswith('.csv'):\n",
        "            data_files.append(os.path.join(dirpath, f))\n",
        "\n",
        "print(f\"\\nFound {len(data_files)} data files\")\n",
        "print(\"Sample files:\", data_files[:5])\n",
        "\n",
        "# Step 2: Load and combine data with per-file sampling and max rows cap\n",
        "def load_iot_malware_data_adapted(data_files, max_rows_per_file, sample_per_file):\n",
        "    \"\"\"\n",
        "    Load N-BaIoT dataset with labels, applying a max rows cap and sampling per file.\n",
        "    \"\"\"\n",
        "    all_data = []\n",
        "    label_mapping = {'benign': 0, 'mirai': 1, 'gafgyt': 1} # Assuming gafgyt is bashlite from filenames\n",
        "\n",
        "    print(\"\\nLoading samples with per-file sampling and max rows cap...\")\n",
        "    total_samples_loaded = 0\n",
        "\n",
        "    for file in data_files:\n",
        "        try:\n",
        "            # Infer label from filename\n",
        "            file_lower = file.lower()\n",
        "            inferred_label = None\n",
        "            for attack_type, label_val in label_mapping.items():\n",
        "                if attack_type in file_lower:\n",
        "                    inferred_label = label_val\n",
        "                    break\n",
        "            # Handle files that don't match a known label (e.g., demonstrate_structure.csv)\n",
        "            if inferred_label is None:\n",
        "                # print(f\"Skipping file with unknown label: {file}\") # Optional: uncomment to see skipped files\n",
        "                continue\n",
        "\n",
        "            # Read with max_rows_per_file limit\n",
        "            df = pd.read_csv(file, nrows=max_rows_per_file)\n",
        "\n",
        "            # Apply sampling if the file has more rows than the sample limit\n",
        "            if len(df) > sample_per_file:\n",
        "                df = df.sample(n=sample_per_file, random_state=42) # Sample per file\n",
        "\n",
        "            df['label'] = inferred_label\n",
        "            # Optionally extract device and attack type from filename if needed for metadata, but not features\n",
        "            # This notebook focuses on using raw features and the binary label\n",
        "            # df['device'] = # extract device\n",
        "            # df['attack_type'] = # extract attack_type\n",
        "            all_data.append(df)\n",
        "            total_samples_loaded += len(df)\n",
        "            # print(f\"  Loaded {len(df)} samples from {os.path.basename(file)}\") # Commented out to reduce output verbosity\n",
        "\n",
        "        except Exception as e:\n",
        "            # print(f\"  Error loading {file}: {e}\") # Optional: uncomment to see loading errors\n",
        "            continue # Skip files that cause errors\n",
        "\n",
        "    # Combine all data\n",
        "    if all_data:\n",
        "        combined_df = pd.concat(all_data, ignore_index=True)\n",
        "        print(f\"\\nTotal samples loaded: {len(combined_df)}\")\n",
        "        print(\"Class distribution in loaded data:\")\n",
        "        print(combined_df['label'].value_counts())\n",
        "        return combined_df\n",
        "    else:\n",
        "        raise Exception(\"No data loaded. Please check file paths and contents.\")"
      ]
    },
    {
      "cell_type": "code",
      "source": [
        "%time\n",
        "# Load the data using the function defined previously\n",
        "print(\"Loading N-BaIoT dataset...\")\n",
        "# Make sure the load_iot_malware_data_adapted function from cell 2wvXoHcFw97B is defined and executed first.\n",
        "df = load_iot_malware_data_adapted(data_files, MAX_ROWS_PER_FILE, SAMPLE_PER_FILE)\n",
        "\n",
        "print(\"\\nData loaded successfully.\")"
      ],
      "metadata": {
        "id": "cQgy9Jx_6ONI",
        "colab": {
          "base_uri": "https://localhost:8080/",
          "height": 529
        },
        "outputId": "168ceaa1-ca63-4983-c59b-e7e7764df3da"
      },
      "execution_count": null,
      "outputs": [
        {
          "output_type": "stream",
          "name": "stdout",
          "text": [
            "CPU times: user 5 µs, sys: 0 ns, total: 5 µs\n",
            "Wall time: 8.58 µs\n",
            "Loading N-BaIoT dataset...\n",
            "\n",
            "Loading samples with per-file sampling and max rows cap...\n"
          ]
        },
        {
          "output_type": "error",
          "ename": "KeyboardInterrupt",
          "evalue": "",
          "traceback": [
            "\u001b[0;31m---------------------------------------------------------------------------\u001b[0m",
            "\u001b[0;31mKeyboardInterrupt\u001b[0m                         Traceback (most recent call last)",
            "\u001b[0;32m/tmp/ipython-input-589845414.py\u001b[0m in \u001b[0;36m<cell line: 0>\u001b[0;34m()\u001b[0m\n\u001b[1;32m      3\u001b[0m \u001b[0mprint\u001b[0m\u001b[0;34m(\u001b[0m\u001b[0;34m\"Loading N-BaIoT dataset...\"\u001b[0m\u001b[0;34m)\u001b[0m\u001b[0;34m\u001b[0m\u001b[0;34m\u001b[0m\u001b[0m\n\u001b[1;32m      4\u001b[0m \u001b[0;31m# Make sure the load_iot_malware_data_adapted function from cell 2wvXoHcFw97B is defined and executed first.\u001b[0m\u001b[0;34m\u001b[0m\u001b[0;34m\u001b[0m\u001b[0m\n\u001b[0;32m----> 5\u001b[0;31m \u001b[0mdf\u001b[0m \u001b[0;34m=\u001b[0m \u001b[0mload_iot_malware_data_adapted\u001b[0m\u001b[0;34m(\u001b[0m\u001b[0mdata_files\u001b[0m\u001b[0;34m,\u001b[0m \u001b[0mMAX_ROWS_PER_FILE\u001b[0m\u001b[0;34m,\u001b[0m \u001b[0mSAMPLE_PER_FILE\u001b[0m\u001b[0;34m)\u001b[0m\u001b[0;34m\u001b[0m\u001b[0;34m\u001b[0m\u001b[0m\n\u001b[0m\u001b[1;32m      6\u001b[0m \u001b[0;34m\u001b[0m\u001b[0m\n\u001b[1;32m      7\u001b[0m \u001b[0mprint\u001b[0m\u001b[0;34m(\u001b[0m\u001b[0;34m\"\\nData loaded successfully.\"\u001b[0m\u001b[0;34m)\u001b[0m\u001b[0;34m\u001b[0m\u001b[0;34m\u001b[0m\u001b[0m\n",
            "\u001b[0;32m/tmp/ipython-input-1904119798.py\u001b[0m in \u001b[0;36mload_iot_malware_data_adapted\u001b[0;34m(data_files, max_rows_per_file, sample_per_file)\u001b[0m\n\u001b[1;32m     77\u001b[0m \u001b[0;34m\u001b[0m\u001b[0m\n\u001b[1;32m     78\u001b[0m             \u001b[0;31m# Read with max_rows_per_file limit\u001b[0m\u001b[0;34m\u001b[0m\u001b[0;34m\u001b[0m\u001b[0m\n\u001b[0;32m---> 79\u001b[0;31m             \u001b[0mdf\u001b[0m \u001b[0;34m=\u001b[0m \u001b[0mpd\u001b[0m\u001b[0;34m.\u001b[0m\u001b[0mread_csv\u001b[0m\u001b[0;34m(\u001b[0m\u001b[0mfile\u001b[0m\u001b[0;34m,\u001b[0m \u001b[0mnrows\u001b[0m\u001b[0;34m=\u001b[0m\u001b[0mmax_rows_per_file\u001b[0m\u001b[0;34m)\u001b[0m\u001b[0;34m\u001b[0m\u001b[0;34m\u001b[0m\u001b[0m\n\u001b[0m\u001b[1;32m     80\u001b[0m \u001b[0;34m\u001b[0m\u001b[0m\n\u001b[1;32m     81\u001b[0m             \u001b[0;31m# Apply sampling if the file has more rows than the sample limit\u001b[0m\u001b[0;34m\u001b[0m\u001b[0;34m\u001b[0m\u001b[0m\n",
            "\u001b[0;32m/usr/local/lib/python3.12/dist-packages/pandas/io/parsers/readers.py\u001b[0m in \u001b[0;36mread_csv\u001b[0;34m(filepath_or_buffer, sep, delimiter, header, names, index_col, usecols, dtype, engine, converters, true_values, false_values, skipinitialspace, skiprows, skipfooter, nrows, na_values, keep_default_na, na_filter, verbose, skip_blank_lines, parse_dates, infer_datetime_format, keep_date_col, date_parser, date_format, dayfirst, cache_dates, iterator, chunksize, compression, thousands, decimal, lineterminator, quotechar, quoting, doublequote, escapechar, comment, encoding, encoding_errors, dialect, on_bad_lines, delim_whitespace, low_memory, memory_map, float_precision, storage_options, dtype_backend)\u001b[0m\n\u001b[1;32m   1024\u001b[0m     \u001b[0mkwds\u001b[0m\u001b[0;34m.\u001b[0m\u001b[0mupdate\u001b[0m\u001b[0;34m(\u001b[0m\u001b[0mkwds_defaults\u001b[0m\u001b[0;34m)\u001b[0m\u001b[0;34m\u001b[0m\u001b[0;34m\u001b[0m\u001b[0m\n\u001b[1;32m   1025\u001b[0m \u001b[0;34m\u001b[0m\u001b[0m\n\u001b[0;32m-> 1026\u001b[0;31m     \u001b[0;32mreturn\u001b[0m \u001b[0m_read\u001b[0m\u001b[0;34m(\u001b[0m\u001b[0mfilepath_or_buffer\u001b[0m\u001b[0;34m,\u001b[0m \u001b[0mkwds\u001b[0m\u001b[0;34m)\u001b[0m\u001b[0;34m\u001b[0m\u001b[0;34m\u001b[0m\u001b[0m\n\u001b[0m\u001b[1;32m   1027\u001b[0m \u001b[0;34m\u001b[0m\u001b[0m\n\u001b[1;32m   1028\u001b[0m \u001b[0;34m\u001b[0m\u001b[0m\n",
            "\u001b[0;32m/usr/local/lib/python3.12/dist-packages/pandas/io/parsers/readers.py\u001b[0m in \u001b[0;36m_read\u001b[0;34m(filepath_or_buffer, kwds)\u001b[0m\n\u001b[1;32m    624\u001b[0m \u001b[0;34m\u001b[0m\u001b[0m\n\u001b[1;32m    625\u001b[0m     \u001b[0;32mwith\u001b[0m \u001b[0mparser\u001b[0m\u001b[0;34m:\u001b[0m\u001b[0;34m\u001b[0m\u001b[0;34m\u001b[0m\u001b[0m\n\u001b[0;32m--> 626\u001b[0;31m         \u001b[0;32mreturn\u001b[0m \u001b[0mparser\u001b[0m\u001b[0;34m.\u001b[0m\u001b[0mread\u001b[0m\u001b[0;34m(\u001b[0m\u001b[0mnrows\u001b[0m\u001b[0;34m)\u001b[0m\u001b[0;34m\u001b[0m\u001b[0;34m\u001b[0m\u001b[0m\n\u001b[0m\u001b[1;32m    627\u001b[0m \u001b[0;34m\u001b[0m\u001b[0m\n\u001b[1;32m    628\u001b[0m \u001b[0;34m\u001b[0m\u001b[0m\n",
            "\u001b[0;32m/usr/local/lib/python3.12/dist-packages/pandas/io/parsers/readers.py\u001b[0m in \u001b[0;36mread\u001b[0;34m(self, nrows)\u001b[0m\n\u001b[1;32m   1921\u001b[0m                     \u001b[0mcolumns\u001b[0m\u001b[0;34m,\u001b[0m\u001b[0;34m\u001b[0m\u001b[0;34m\u001b[0m\u001b[0m\n\u001b[1;32m   1922\u001b[0m                     \u001b[0mcol_dict\u001b[0m\u001b[0;34m,\u001b[0m\u001b[0;34m\u001b[0m\u001b[0;34m\u001b[0m\u001b[0m\n\u001b[0;32m-> 1923\u001b[0;31m                 \u001b[0;34m)\u001b[0m \u001b[0;34m=\u001b[0m \u001b[0mself\u001b[0m\u001b[0;34m.\u001b[0m\u001b[0m_engine\u001b[0m\u001b[0;34m.\u001b[0m\u001b[0mread\u001b[0m\u001b[0;34m(\u001b[0m  \u001b[0;31m# type: ignore[attr-defined]\u001b[0m\u001b[0;34m\u001b[0m\u001b[0;34m\u001b[0m\u001b[0m\n\u001b[0m\u001b[1;32m   1924\u001b[0m                     \u001b[0mnrows\u001b[0m\u001b[0;34m\u001b[0m\u001b[0;34m\u001b[0m\u001b[0m\n\u001b[1;32m   1925\u001b[0m                 )\n",
            "\u001b[0;32m/usr/local/lib/python3.12/dist-packages/pandas/io/parsers/c_parser_wrapper.py\u001b[0m in \u001b[0;36mread\u001b[0;34m(self, nrows)\u001b[0m\n\u001b[1;32m    232\u001b[0m         \u001b[0;32mtry\u001b[0m\u001b[0;34m:\u001b[0m\u001b[0;34m\u001b[0m\u001b[0;34m\u001b[0m\u001b[0m\n\u001b[1;32m    233\u001b[0m             \u001b[0;32mif\u001b[0m \u001b[0mself\u001b[0m\u001b[0;34m.\u001b[0m\u001b[0mlow_memory\u001b[0m\u001b[0;34m:\u001b[0m\u001b[0;34m\u001b[0m\u001b[0;34m\u001b[0m\u001b[0m\n\u001b[0;32m--> 234\u001b[0;31m                 \u001b[0mchunks\u001b[0m \u001b[0;34m=\u001b[0m \u001b[0mself\u001b[0m\u001b[0;34m.\u001b[0m\u001b[0m_reader\u001b[0m\u001b[0;34m.\u001b[0m\u001b[0mread_low_memory\u001b[0m\u001b[0;34m(\u001b[0m\u001b[0mnrows\u001b[0m\u001b[0;34m)\u001b[0m\u001b[0;34m\u001b[0m\u001b[0;34m\u001b[0m\u001b[0m\n\u001b[0m\u001b[1;32m    235\u001b[0m                 \u001b[0;31m# destructive to chunks\u001b[0m\u001b[0;34m\u001b[0m\u001b[0;34m\u001b[0m\u001b[0m\n\u001b[1;32m    236\u001b[0m                 \u001b[0mdata\u001b[0m \u001b[0;34m=\u001b[0m \u001b[0m_concatenate_chunks\u001b[0m\u001b[0;34m(\u001b[0m\u001b[0mchunks\u001b[0m\u001b[0;34m)\u001b[0m\u001b[0;34m\u001b[0m\u001b[0;34m\u001b[0m\u001b[0m\n",
            "\u001b[0;32mparsers.pyx\u001b[0m in \u001b[0;36mpandas._libs.parsers.TextReader.read_low_memory\u001b[0;34m()\u001b[0m\n",
            "\u001b[0;32mparsers.pyx\u001b[0m in \u001b[0;36mpandas._libs.parsers.TextReader._read_rows\u001b[0;34m()\u001b[0m\n",
            "\u001b[0;32mparsers.pyx\u001b[0m in \u001b[0;36mpandas._libs.parsers.TextReader._tokenize_rows\u001b[0;34m()\u001b[0m\n",
            "\u001b[0;32mparsers.pyx\u001b[0m in \u001b[0;36mpandas._libs.parsers.TextReader._check_tokenize_status\u001b[0;34m()\u001b[0m\n",
            "\u001b[0;32mparsers.pyx\u001b[0m in \u001b[0;36mpandas._libs.parsers.raise_parser_error\u001b[0;34m()\u001b[0m\n",
            "\u001b[0;32m/usr/lib/python3.12/codecs.py\u001b[0m in \u001b[0;36mgetstate\u001b[0;34m(self)\u001b[0m\n",
            "\u001b[0;31mKeyboardInterrupt\u001b[0m: "
          ]
        }
      ]
    },
    {
      "cell_type": "code",
      "source": [
        "%time\n",
        "# Step 3: Data preprocessing (Continued - Column Cleaning)\n",
        "\n",
        "# 1. Inspect and clean column names\n",
        "print(\"\\n\" + \"=\"*50)\n",
        "print(\"COLUMN CLEANING\")\n",
        "print(\"=\"*50)\n",
        "\n",
        "print(\"Original column names:\")\n",
        "print(df.columns.tolist())\n",
        "\n",
        "# Simple cleaning: replace spaces and dots with underscores\n",
        "cleaned_columns = [col.replace(' ', '_').replace('.', '_') for col in df.columns]\n",
        "df.columns = cleaned_columns\n",
        "print(\"\\nCleaned column names:\")\n",
        "print(df.columns.tolist())\n",
        "\n",
        "# At this point, df has cleaned column names and contains all original features + label/metadata.\n",
        "# The next step (in a new cell) will be to define feature_columns to include all features."
      ],
      "metadata": {
        "colab": {
          "base_uri": "https://localhost:8080/"
        },
        "id": "qPPgKAafh37C",
        "outputId": "3819de26-cb21-4602-82a7-48e8b07b8532"
      },
      "execution_count": null,
      "outputs": [
        {
          "output_type": "stream",
          "name": "stdout",
          "text": [
            "\n",
            "==================================================\n",
            "COLUMN CLEANING\n",
            "==================================================\n",
            "Original column names:\n",
            "['MI_dir_L5_weight', 'MI_dir_L5_mean', 'MI_dir_L5_variance', 'MI_dir_L3_weight', 'MI_dir_L3_mean', 'MI_dir_L3_variance', 'MI_dir_L1_weight', 'MI_dir_L1_mean', 'MI_dir_L1_variance', 'MI_dir_L0.1_weight', 'MI_dir_L0.1_mean', 'MI_dir_L0.1_variance', 'MI_dir_L0.01_weight', 'MI_dir_L0.01_mean', 'MI_dir_L0.01_variance', 'H_L5_weight', 'H_L5_mean', 'H_L5_variance', 'H_L3_weight', 'H_L3_mean', 'H_L3_variance', 'H_L1_weight', 'H_L1_mean', 'H_L1_variance', 'H_L0.1_weight', 'H_L0.1_mean', 'H_L0.1_variance', 'H_L0.01_weight', 'H_L0.01_mean', 'H_L0.01_variance', 'HH_L5_weight', 'HH_L5_mean', 'HH_L5_std', 'HH_L5_magnitude', 'HH_L5_radius', 'HH_L5_covariance', 'HH_L5_pcc', 'HH_L3_weight', 'HH_L3_mean', 'HH_L3_std', 'HH_L3_magnitude', 'HH_L3_radius', 'HH_L3_covariance', 'HH_L3_pcc', 'HH_L1_weight', 'HH_L1_mean', 'HH_L1_std', 'HH_L1_magnitude', 'HH_L1_radius', 'HH_L1_covariance', 'HH_L1_pcc', 'HH_L0.1_weight', 'HH_L0.1_mean', 'HH_L0.1_std', 'HH_L0.1_magnitude', 'HH_L0.1_radius', 'HH_L0.1_covariance', 'HH_L0.1_pcc', 'HH_L0.01_weight', 'HH_L0.01_mean', 'HH_L0.01_std', 'HH_L0.01_magnitude', 'HH_L0.01_radius', 'HH_L0.01_covariance', 'HH_L0.01_pcc', 'HH_jit_L5_weight', 'HH_jit_L5_mean', 'HH_jit_L5_variance', 'HH_jit_L3_weight', 'HH_jit_L3_mean', 'HH_jit_L3_variance', 'HH_jit_L1_weight', 'HH_jit_L1_mean', 'HH_jit_L1_variance', 'HH_jit_L0.1_weight', 'HH_jit_L0.1_mean', 'HH_jit_L0.1_variance', 'HH_jit_L0.01_weight', 'HH_jit_L0.01_mean', 'HH_jit_L0.01_variance', 'HpHp_L5_weight', 'HpHp_L5_mean', 'HpHp_L5_std', 'HpHp_L5_magnitude', 'HpHp_L5_radius', 'HpHp_L5_covariance', 'HpHp_L5_pcc', 'HpHp_L3_weight', 'HpHp_L3_mean', 'HpHp_L3_std', 'HpHp_L3_magnitude', 'HpHp_L3_radius', 'HpHp_L3_covariance', 'HpHp_L3_pcc', 'HpHp_L1_weight', 'HpHp_L1_mean', 'HpHp_L1_std', 'HpHp_L1_magnitude', 'HpHp_L1_radius', 'HpHp_L1_covariance', 'HpHp_L1_pcc', 'HpHp_L0.1_weight', 'HpHp_L0.1_mean', 'HpHp_L0.1_std', 'HpHp_L0.1_magnitude', 'HpHp_L0.1_radius', 'HpHp_L0.1_covariance', 'HpHp_L0.1_pcc', 'HpHp_L0.01_weight', 'HpHp_L0.01_mean', 'HpHp_L0.01_std', 'HpHp_L0.01_magnitude', 'HpHp_L0.01_radius', 'HpHp_L0.01_covariance', 'HpHp_L0.01_pcc', 'label']\n",
            "\n",
            "Cleaned column names:\n",
            "['MI_dir_L5_weight', 'MI_dir_L5_mean', 'MI_dir_L5_variance', 'MI_dir_L3_weight', 'MI_dir_L3_mean', 'MI_dir_L3_variance', 'MI_dir_L1_weight', 'MI_dir_L1_mean', 'MI_dir_L1_variance', 'MI_dir_L0_1_weight', 'MI_dir_L0_1_mean', 'MI_dir_L0_1_variance', 'MI_dir_L0_01_weight', 'MI_dir_L0_01_mean', 'MI_dir_L0_01_variance', 'H_L5_weight', 'H_L5_mean', 'H_L5_variance', 'H_L3_weight', 'H_L3_mean', 'H_L3_variance', 'H_L1_weight', 'H_L1_mean', 'H_L1_variance', 'H_L0_1_weight', 'H_L0_1_mean', 'H_L0_1_variance', 'H_L0_01_weight', 'H_L0_01_mean', 'H_L0_01_variance', 'HH_L5_weight', 'HH_L5_mean', 'HH_L5_std', 'HH_L5_magnitude', 'HH_L5_radius', 'HH_L5_covariance', 'HH_L5_pcc', 'HH_L3_weight', 'HH_L3_mean', 'HH_L3_std', 'HH_L3_magnitude', 'HH_L3_radius', 'HH_L3_covariance', 'HH_L3_pcc', 'HH_L1_weight', 'HH_L1_mean', 'HH_L1_std', 'HH_L1_magnitude', 'HH_L1_radius', 'HH_L1_covariance', 'HH_L1_pcc', 'HH_L0_1_weight', 'HH_L0_1_mean', 'HH_L0_1_std', 'HH_L0_1_magnitude', 'HH_L0_1_radius', 'HH_L0_1_covariance', 'HH_L0_1_pcc', 'HH_L0_01_weight', 'HH_L0_01_mean', 'HH_L0_01_std', 'HH_L0_01_magnitude', 'HH_L0_01_radius', 'HH_L0_01_covariance', 'HH_L0_01_pcc', 'HH_jit_L5_weight', 'HH_jit_L5_mean', 'HH_jit_L5_variance', 'HH_jit_L3_weight', 'HH_jit_L3_mean', 'HH_jit_L3_variance', 'HH_jit_L1_weight', 'HH_jit_L1_mean', 'HH_jit_L1_variance', 'HH_jit_L0_1_weight', 'HH_jit_L0_1_mean', 'HH_jit_L0_1_variance', 'HH_jit_L0_01_weight', 'HH_jit_L0_01_mean', 'HH_jit_L0_01_variance', 'HpHp_L5_weight', 'HpHp_L5_mean', 'HpHp_L5_std', 'HpHp_L5_magnitude', 'HpHp_L5_radius', 'HpHp_L5_covariance', 'HpHp_L5_pcc', 'HpHp_L3_weight', 'HpHp_L3_mean', 'HpHp_L3_std', 'HpHp_L3_magnitude', 'HpHp_L3_radius', 'HpHp_L3_covariance', 'HpHp_L3_pcc', 'HpHp_L1_weight', 'HpHp_L1_mean', 'HpHp_L1_std', 'HpHp_L1_magnitude', 'HpHp_L1_radius', 'HpHp_L1_covariance', 'HpHp_L1_pcc', 'HpHp_L0_1_weight', 'HpHp_L0_1_mean', 'HpHp_L0_1_std', 'HpHp_L0_1_magnitude', 'HpHp_L0_1_radius', 'HpHp_L0_1_covariance', 'HpHp_L0_1_pcc', 'HpHp_L0_01_weight', 'HpHp_L0_01_mean', 'HpHp_L0_01_std', 'HpHp_L0_01_magnitude', 'HpHp_L0_01_radius', 'HpHp_L0_01_covariance', 'HpHp_L0_01_pcc', 'label']\n"
          ]
        }
      ]
    },
    {
      "cell_type": "code",
      "source": [
        "%time\n",
        "# Step 3c: Define feature columns\n",
        "\n",
        "# Define the list of features to be used for training\n",
        "# Exclude the target variable ('label') and metadata columns ('device', 'attack_type')\n",
        "# Select all numerical columns as features\n",
        "feature_columns = df.select_dtypes(include=np.number).columns.tolist()\n",
        "if 'label' in feature_columns:\n",
        "    feature_columns.remove('label')\n",
        "# If 'device' or 'attack_type' were numerical and present, remove them as well (though they are expected to be strings)\n",
        "if 'device' in feature_columns:\n",
        "    feature_columns.remove('device')\n",
        "if 'attack_type' in feature_columns:\n",
        "    feature_columns.remove('attack_type')\n",
        "\n",
        "\n",
        "print(f\"\\nDefined {len(feature_columns)} feature columns.\")\n",
        "print(\"Sample feature columns:\", feature_columns[:10])"
      ],
      "metadata": {
        "colab": {
          "base_uri": "https://localhost:8080/"
        },
        "id": "9DTjz7DVindQ",
        "outputId": "ddee0044-2fa4-428f-9f50-ccf1b80cda6c"
      },
      "execution_count": null,
      "outputs": [
        {
          "output_type": "stream",
          "name": "stdout",
          "text": [
            "\n",
            "Defined 115 feature columns.\n",
            "Sample feature columns: ['MI_dir_L5_weight', 'MI_dir_L5_mean', 'MI_dir_L5_variance', 'MI_dir_L3_weight', 'MI_dir_L3_mean', 'MI_dir_L3_variance', 'MI_dir_L1_weight', 'MI_dir_L1_mean', 'MI_dir_L1_variance', 'MI_dir_L0_1_weight']\n"
          ]
        }
      ]
    },
    {
      "cell_type": "code",
      "execution_count": null,
      "metadata": {
        "id": "bed8fd41",
        "colab": {
          "base_uri": "https://localhost:8080/"
        },
        "outputId": "a78580a7-2a66-405a-c07c-30997197ffae"
      },
      "outputs": [
        {
          "output_type": "stream",
          "name": "stdout",
          "text": [
            "\n",
            "==================================================\n",
            "SPLITTING DATA\n",
            "==================================================\n",
            "\n",
            "Feature shape after selection: (89000, 115)\n",
            "Number of selected features: 115\n",
            "Sample selected features: ['MI_dir_L5_weight', 'MI_dir_L5_mean', 'MI_dir_L5_variance', 'MI_dir_L3_weight', 'MI_dir_L3_mean']...\n",
            "\n",
            "Train set: (62300, 115), Test set: (26700, 115)\n",
            "Train class distribution: {1: 56000, 0: 6300}\n",
            "Test class distribution: {1: 24000, 0: 2700}\n"
          ]
        }
      ],
      "source": [
        "%time\n",
        "# Step 3b: Split data into training and testing sets after feature selection\n",
        "\n",
        "print(\"\\n\" + \"=\"*50)\n",
        "print(\"SPLITTING DATA\")\n",
        "print(\"=\"*50)\n",
        "\n",
        "# Separate features and labels using the updated feature_columns list\n",
        "X = df[feature_columns]\n",
        "y = df['label']\n",
        "\n",
        "print(f\"\\nFeature shape after selection: {X.shape}\")\n",
        "print(f\"Number of selected features: {len(feature_columns)}\")\n",
        "print(f\"Sample selected features: {feature_columns[:5]}...\")\n",
        "\n",
        "# Split the data into training and testing sets\n",
        "X_train, X_test, y_train, y_test = train_test_split(\n",
        "    X, y, test_size=0.30, random_state=42, stratify=y # Updated test_size to 0.30\n",
        ")\n",
        "\n",
        "print(f\"\\nTrain set: {X_train.shape}, Test set: {X_test.shape}\") # Corrected test set shape print\n",
        "print(f\"Train class distribution: {y_train.value_counts().to_dict()}\")\n",
        "print(f\"Test class distribution: {y_test.value_counts().to_dict()}\")"
      ]
    },
    {
      "cell_type": "markdown",
      "metadata": {
        "id": "59f662aa"
      },
      "source": [
        "# Train Random Forest on Raw Data (No Preprocessing)\n",
        "\n",
        "### Subtask:\n",
        "Train a `RandomForestClassifier` model on the original, unbalanced data with all features."
      ]
    },
    {
      "cell_type": "markdown",
      "metadata": {
        "id": "ce792156"
      },
      "source": [
        "**Reasoning**:\n",
        "Initialize and train a Random Forest model on the raw `X_train` and `y_train` data to evaluate performance without any preprocessing steps like balancing or feature selection."
      ]
    },
    {
      "cell_type": "code",
      "metadata": {
        "colab": {
          "base_uri": "https://localhost:8080/"
        },
        "id": "8effe455",
        "outputId": "2c54fb1a-7954-45a6-a2e5-6464c74c3666"
      },
      "source": [
        "%time\n",
        "# Step 5 (New): Train Random Forest on the original, unbalanced data with all features\n",
        "print(\"\\n\" + \"=\"*50)\n",
        "print(\"TRAINING RANDOM FOREST CLASSIFIER ON RAW DATA\")\n",
        "print(\"=\"*50)\n",
        "\n",
        "# Use the original X_train and y_train data (before any balancing or scaling)\n",
        "# Ensure X_train and y_train are available and represent the full feature set after initial split\n",
        "\n",
        "# Initialize and train Random Forest with the same hyperparameters as before\n",
        "rf_model_raw = RandomForestClassifier(\n",
        "    n_estimators=100,\n",
        "    max_depth=20,\n",
        "    min_samples_split=5,\n",
        "    min_samples_leaf=2,\n",
        "    random_state=42,\n",
        "    n_jobs=-1\n",
        ")\n",
        "\n",
        "# Measure training time\n",
        "print(\"Starting Random Forest training on raw data...\")\n",
        "start_time = time.time()\n",
        "rf_model_raw.fit(X_train, y_train) # Train on original X_train, y_train\n",
        "rf_train_time_raw = time.time() - start_time\n",
        "print(\"Random Forest training on raw data finished.\")\n",
        "\n",
        "print(f\"\\nTraining time on raw data: {rf_train_time_raw:.2f} seconds\")"
      ],
      "execution_count": null,
      "outputs": [
        {
          "output_type": "stream",
          "name": "stdout",
          "text": [
            "\n",
            "==================================================\n",
            "TRAINING RANDOM FOREST CLASSIFIER ON RAW DATA\n",
            "==================================================\n",
            "Starting Random Forest training on raw data...\n",
            "Random Forest training on raw data finished.\n",
            "\n",
            "Training time on raw data: 22.72 seconds\n"
          ]
        }
      ]
    },
    {
      "cell_type": "markdown",
      "metadata": {
        "id": "231272a1"
      },
      "source": [
        "## Evaluate Random Forest on Raw Data\n",
        "\n",
        "### Subtask:\n",
        "Evaluate the performance of the Random Forest model trained on raw data."
      ]
    },
    {
      "cell_type": "markdown",
      "metadata": {
        "id": "c2cb5f02"
      },
      "source": [
        "**Reasoning**:\n",
        "Evaluate the performance of the Random Forest model trained on raw data using accuracy, F1-score, classification report, and confusion matrix."
      ]
    },
    {
      "cell_type": "code",
      "metadata": {
        "colab": {
          "base_uri": "https://localhost:8080/",
          "height": 799
        },
        "id": "c2c9def9",
        "outputId": "9ed8dbc4-e933-4998-8293-24bdb80022dd"
      },
      "source": [
        "%time\n",
        "# Step 5b (New): Evaluate the performance of the Random Forest model trained on raw data\n",
        "print(\"\\n\" + \"=\"*50)\n",
        "print(\"EVALUATING RANDOM FOREST (RAW DATA) PERFORMANCE\")\n",
        "print(\"=\"*50)\n",
        "\n",
        "# Make predictions on the original test data (X_test)\n",
        "rf_pred_raw = rf_model_raw.predict(X_test)\n",
        "\n",
        "# Calculate accuracy\n",
        "rf_accuracy_raw = accuracy_score(y_test, rf_pred_raw)\n",
        "\n",
        "# Calculate weighted F1-score\n",
        "rf_f1_raw = f1_score(y_test, rf_pred_raw, average='weighted')\n",
        "\n",
        "# Print accuracy and F1-score\n",
        "print(f\"\\nAccuracy (Raw Data RF): {rf_accuracy_raw:.4f}\")\n",
        "print(f\"F1-score (Raw Data RF): {rf_f1_raw:.4f}\")\n",
        "\n",
        "# Generate and print classification report\n",
        "print(\"\\nClassification Report (Raw Data RF):\")\n",
        "print(classification_report(y_test, rf_pred_raw, target_names=['Benign', 'Malware']))\n",
        "\n",
        "# Generate confusion matrix\n",
        "cm_rf_raw = confusion_matrix(y_test, rf_pred_raw)\n",
        "\n",
        "# Visualize confusion matrix\n",
        "plt.figure(figsize=(6, 5))\n",
        "sns.heatmap(cm_rf_raw, annot=True, fmt='d', cmap='Blues',\n",
        "            xticklabels=['Benign', 'Malware'], yticklabels=['Benign', 'Malware'])\n",
        "plt.title('Random Forest (Raw Data) Confusion Matrix')\n",
        "plt.xlabel('Predicted')\n",
        "plt.ylabel('Actual')\n",
        "plt.show()"
      ],
      "execution_count": null,
      "outputs": [
        {
          "output_type": "stream",
          "name": "stdout",
          "text": [
            "\n",
            "==================================================\n",
            "EVALUATING RANDOM FOREST (RAW DATA) PERFORMANCE\n",
            "==================================================\n",
            "\n",
            "Accuracy (Raw Data RF): 1.0000\n",
            "F1-score (Raw Data RF): 1.0000\n",
            "\n",
            "Classification Report (Raw Data RF):\n",
            "              precision    recall  f1-score   support\n",
            "\n",
            "      Benign       1.00      1.00      1.00      2700\n",
            "     Malware       1.00      1.00      1.00     24000\n",
            "\n",
            "    accuracy                           1.00     26700\n",
            "   macro avg       1.00      1.00      1.00     26700\n",
            "weighted avg       1.00      1.00      1.00     26700\n",
            "\n"
          ]
        },
        {
          "output_type": "display_data",
          "data": {
            "text/plain": [
              "<Figure size 600x500 with 2 Axes>"
            ],
            "image/png": "[encoded data removed]"
          },
          "metadata": {}
        }
      ]
    },
    {
      "cell_type": "markdown",
      "metadata": {
        "id": "c70391a4"
      },
      "source": [
        "## Feature Importance (Raw Data Model)\n",
        "\n",
        "### Subtask:\n",
        "Calculate and display feature importance for the Random Forest model trained on raw data."
      ]
    },
    {
      "cell_type": "markdown",
      "metadata": {
        "id": "239e1a74"
      },
      "source": [
        "**Reasoning**:\n",
        "Extract, store, sort, and display the top 10 feature importances from the trained raw data Random Forest model."
      ]
    },
    {
      "cell_type": "code",
      "metadata": {
        "colab": {
          "base_uri": "https://localhost:8080/"
        },
        "id": "67579b87",
        "outputId": "31293e3b-8575-4f32-f328-00a68058ad88"
      },
      "source": [
        "%time\n",
        "# Step 5c (New): Calculate and display feature importance for the Random Forest model trained on raw data\n",
        "print(\"\\n\" + \"=\"*50)\n",
        "print(\"FEATURE IMPORTANCE (RAW DATA RF)\")\n",
        "print(\"=\"*50)\n",
        "\n",
        "# Extract feature importances\n",
        "feature_importances_raw = rf_model_raw.feature_importances_\n",
        "\n",
        "# Create a DataFrame for feature importance\n",
        "# Use the feature_columns list which should represent all features if feature selection was skipped\n",
        "feature_importance_raw_df = pd.DataFrame({\n",
        "    'feature': feature_columns,\n",
        "    'importance': feature_importances_raw\n",
        "})\n",
        "\n",
        "# Sort by importance in descending order\n",
        "feature_importance_raw_df = feature_importance_raw_df.sort_values(\n",
        "    'importance', ascending=False\n",
        ")\n",
        "\n",
        "# Print the top 10 most important features\n",
        "print(\"\\nTop 10 Most Important Features (Raw Data RF):\")\n",
        "print(feature_importance_raw_df.head(10))"
      ],
      "execution_count": null,
      "outputs": [
        {
          "output_type": "stream",
          "name": "stdout",
          "text": [
            "\n",
            "==================================================\n",
            "FEATURE IMPORTANCE (RAW DATA RF)\n",
            "==================================================\n",
            "\n",
            "Top 10 Most Important Features (Raw Data RF):\n",
            "                 feature  importance\n",
            "78     HH_jit_L0_01_mean    0.153592\n",
            "62       HH_L0_01_radius    0.060577\n",
            "103        HpHp_L0_1_std    0.050367\n",
            "63   HH_L0_01_covariance    0.049816\n",
            "112    HpHp_L0_01_radius    0.047438\n",
            "108    HpHp_L0_01_weight    0.042990\n",
            "24         H_L0_1_weight    0.036067\n",
            "27        H_L0_01_weight    0.034881\n",
            "12   MI_dir_L0_01_weight    0.034681\n",
            "110       HpHp_L0_01_std    0.033925\n"
          ]
        }
      ]
    },
    {
      "cell_type": "markdown",
      "metadata": {
        "id": "76b0136d"
      },
      "source": [
        "## Comparison with other models\n",
        "\n",
        "### Subtask:\n",
        "Compare the performance of the raw data Random Forest model with the previously trained models."
      ]
    },
    {
      "cell_type": "markdown",
      "metadata": {
        "id": "f3f158fd"
      },
      "source": [
        "**Reasoning**:\n",
        "Compare the performance metrics of the raw data Random Forest model with the SMOTE and Undersampled Random Forest models and the SVM model."
      ]
    },
    {
      "cell_type": "code",
      "metadata": {
        "colab": {
          "base_uri": "https://localhost:8080/",
          "height": 809
        },
        "id": "2537b098",
        "outputId": "c5c8cadc-5bd3-4c73-c798-a230bfc04b51"
      },
      "source": [
        "# Step 10 (Updated): Model Comparison including the Raw Data RF\n",
        "print(\"\\n\" + \"=\"*50)\n",
        "print(\"MODEL COMPARISON (INCLUDING RAW DATA RF)\")\n",
        "print(\"=\"*50)\n",
        "\n",
        "# Ensure the variables from previous steps are available\n",
        "# rf_accuracy, rf_f1, rf_train_time (from initial RF with SMOTE)\n",
        "# svm_accuracy, svm_f1, svm_train_time (from SVM with SMOTE on subset)\n",
        "# rf_accuracy_undersampled, rf_f1_undersampled, rf_train_time_undersampled (from new RF with RandomUndersampler)\n",
        "# rf_accuracy_raw, rf_f1_raw, rf_train_time_raw (from new RF with Raw Data)\n",
        "\n",
        "\n",
        "# Create or update the comparison DataFrame\n",
        "# Check if comparison_df exists and has the expected columns\n",
        "if 'comparison_df' in locals() and not comparison_df.empty and 'Model' in comparison_df.columns:\n",
        "    # Check if Raw Data RF is already in the DataFrame\n",
        "    if 'Random Forest (Raw Data)' not in comparison_df['Model'].values:\n",
        "        new_row = pd.DataFrame([{\n",
        "            'Model': 'Random Forest (Raw Data)',\n",
        "            'Accuracy': rf_accuracy_raw,\n",
        "            'F1-Score': rf_f1_raw,\n",
        "            'Training Time (s)': rf_train_time_raw\n",
        "        }])\n",
        "        comparison_df = pd.concat([comparison_df, new_row], ignore_index=True)\n",
        "    else:\n",
        "        print(\"\\nRandom Forest (Raw Data) results already in comparison_df. Updating existing row.\")\n",
        "        comparison_df.loc[comparison_df['Model'] == 'Random Forest (Raw Data)', 'Accuracy'] = rf_accuracy_raw\n",
        "        comparison_df.loc[comparison_df['Model'] == 'Random Forest (Raw Data)', 'F1-Score'] = rf_f1_raw\n",
        "        comparison_df.loc[comparison_df['Model'] == 'Random Forest (Raw Data)', 'Training Time (s)'] = rf_train_time_raw\n",
        "\n",
        "else:\n",
        "    # If comparison_df does not exist or is not as expected, create it\n",
        "    print(\"\\nCreating new comparison_df.\")\n",
        "    # Use the variable names directly from the kernel state\n",
        "    # Handle cases where some variables might not be defined if previous cells were skipped\n",
        "    data = {\n",
        "        'Model': [],\n",
        "        'Accuracy': [],\n",
        "        'F1-Score': [],\n",
        "        'Training Time (s)': []\n",
        "    }\n",
        "\n",
        "    if 'rf_accuracy' in locals():\n",
        "        data['Model'].append('Random Forest (SMOTE)')\n",
        "        data['Accuracy'].append(rf_accuracy)\n",
        "        data['F1-Score'].append(rf_f1)\n",
        "        data['Training Time (s)'].append(rf_train_time)\n",
        "\n",
        "    if 'svm_accuracy' in locals():\n",
        "        data['Model'].append('SVM (SMOTE Subset)')\n",
        "        data['Accuracy'].append(svm_accuracy)\n",
        "        data['F1-Score'].append(svm_f1)\n",
        "        data['Training Time (s)'].append(svm_train_time)\n",
        "\n",
        "    if 'rf_accuracy_undersampled' in locals():\n",
        "         data['Model'].append('Random Forest (Undersampled)')\n",
        "         data['Accuracy'].append(rf_accuracy_undersampled)\n",
        "         data['F1-Score'].append(rf_f1_undersampled)\n",
        "         data['Training Time (s)'].append(rf_train_time_undersampled)\n",
        "\n",
        "    # Add the raw data RF results\n",
        "    data['Model'].append('Random Forest (Raw Data)')\n",
        "    data['Accuracy'].append(rf_accuracy_raw)\n",
        "    data['F1-Score'].append(rf_f1_raw)\n",
        "    data['Training Time (s)'].append(rf_train_time_raw)\n",
        "\n",
        "    comparison_df = pd.DataFrame(data)\n",
        "\n",
        "\n",
        "print(\"\\nModel Performance Comparison:\")\n",
        "display(comparison_df.sort_values('F1-Score', ascending=False))\n",
        "\n",
        "# Visualize comparison (update plot to handle all available models)\n",
        "# Determine the number of models to plot\n",
        "num_models = len(comparison_df)\n",
        "fig, axes = plt.subplots(1, 3, figsize=(6 * num_models, 6)) # Adjust figure size dynamically\n",
        "\n",
        "# Accuracy comparison\n",
        "sns.barplot(x='Model', y='Accuracy', data=comparison_df, ax=axes[0], palette='viridis')\n",
        "axes[0].set_title('Model Accuracy Comparison')\n",
        "axes[0].set_ylabel('Accuracy')\n",
        "axes[0].set_ylim(comparison_df['Accuracy'].min() * 0.95, comparison_df['Accuracy'].max() * 1.05) # Adjust y-limit dynamically\n",
        "axes[0].tick_params(axis='x', rotation=15) # Rotate labels if they overlap\n",
        "\n",
        "# F1-Score comparison\n",
        "sns.barplot(x='Model', y='F1-Score', data=comparison_df, ax=axes[1], palette='viridis')\n",
        "axes[1].set_title('Model F1-Score Comparison')\n",
        "axes[1].set_ylabel('F1-Score')\n",
        "axes[1].set_ylim(comparison_df['F1-Score'].min() * 0.95, comparison_df['F1-Score'].max() * 1.05) # Adjust y-limit dynamically\n",
        "axes[1].tick_params(axis='x', rotation=15) # Rotate labels if they overlap\n",
        "\n",
        "# Training time comparison\n",
        "sns.barplot(x='Model', y='Training Time (s)', data=comparison_df, ax=axes[2], palette='viridis')\n",
        "axes[2].set_title('Training Time Comparison')\n",
        "axes[2].set_ylabel('Time (seconds)')\n",
        "axes[2].tick_params(axis='x', rotation=15) # Rotate labels if they overlap\n",
        "\n",
        "\n",
        "plt.tight_layout()\n",
        "plt.show()"
      ],
      "execution_count": null,
      "outputs": [
        {
          "output_type": "stream",
          "name": "stdout",
          "text": [
            "\n",
            "==================================================\n",
            "MODEL COMPARISON (INCLUDING RAW DATA RF)\n",
            "==================================================\n",
            "\n",
            "Creating new comparison_df.\n",
            "\n",
            "Model Performance Comparison:\n"
          ]
        },
        {
          "output_type": "display_data",
          "data": {
            "text/plain": [
              "                      Model  Accuracy  F1-Score  Training Time (s)\n",
              "0  Random Forest (Raw Data)       1.0       1.0         203.417911"
            ],
            "text/html": [
              "\n",
              "  <div id=\"df-24ebff43-e481-447d-915d-1ad39edc706b\" class=\"colab-df-container\">\n",
              "    <div>\n",
              "<style scoped>\n",
              "    .dataframe tbody tr th:only-of-type {\n",
              "        vertical-align: middle;\n",
              "    }\n",
              "\n",
              "    .dataframe tbody tr th {\n",
              "        vertical-align: top;\n",
              "    }\n",
              "\n",
              "    .dataframe thead th {\n",
              "        text-align: right;\n",
              "    }\n",
              "</style>\n",
              "<table border=\"1\" class=\"dataframe\">\n",
              "  <thead>\n",
              "    <tr style=\"text-align: right;\">\n",
              "      <th></th>\n",
              "      <th>Model</th>\n",
              "      <th>Accuracy</th>\n",
              "      <th>F1-Score</th>\n",
              "      <th>Training Time (s)</th>\n",
              "    </tr>\n",
              "  </thead>\n",
              "  <tbody>\n",
              "    <tr>\n",
              "      <th>0</th>\n",
              "      <td>Random Forest (Raw Data)</td>\n",
              "      <td>1.0</td>\n",
              "      <td>1.0</td>\n",
              "      <td>203.417911</td>\n",
              "    </tr>\n",
              "  </tbody>\n",
              "</table>\n",
              "</div>\n",
              "    <div class=\"colab-df-buttons\">\n",
              "\n",
              "  <div class=\"colab-df-container\">\n",
              "    <button class=\"colab-df-convert\" onclick=\"convertToInteractive('df-24ebff43-e481-447d-915d-1ad39edc706b')\"\n",
              "            title=\"Convert this dataframe to an interactive table.\"\n",
              "            style=\"display:none;\">\n",
              "\n",
              "  <svg xmlns=\"http://www.w3.org/2000/svg\" height=\"24px\" viewBox=\"0 -960 960 960\">\n",
              "    <path d=\"M120-120v-720h720v720H120Zm60-500h600v-160H180v160Zm220 220h160v-160H400v160Zm0 220h160v-160H400v160ZM180-400h160v-160H180v160Zm440 0h160v-160H620v160ZM180-180h160v-160H180v160Zm440 0h160v-160H620v160Z\"/>\n",
              "  </svg>\n",
              "    </button>\n",
              "\n",
              "  <style>\n",
              "    .colab-df-container {\n",
              "      display:flex;\n",
              "      gap: 12px;\n",
              "    }\n",
              "\n",
              "    .colab-df-convert {\n",
              "      background-color: #E8F0FE;\n",
              "      border: none;\n",
              "      border-radius: 50%;\n",
              "      cursor: pointer;\n",
              "      display: none;\n",
              "      fill: #1967D2;\n",
              "      height: 32px;\n",
              "      padding: 0 0 0 0;\n",
              "      width: 32px;\n",
              "    }\n",
              "\n",
              "    .colab-df-convert:hover {\n",
              "      background-color: #E2EBFA;\n",
              "      box-shadow: 0px 1px 2px rgba(60, 64, 67, 0.3), 0px 1px 3px 1px rgba(60, 64, 67, 0.15);\n",
              "      fill: #174EA6;\n",
              "    }\n",
              "\n",
              "    .colab-df-buttons div {\n",
              "      margin-bottom: 4px;\n",
              "    }\n",
              "\n",
              "    [theme=dark] .colab-df-convert {\n",
              "      background-color: #3B4455;\n",
              "      fill: #D2E3FC;\n",
              "    }\n",
              "\n",
              "    [theme=dark] .colab-df-convert:hover {\n",
              "      background-color: #434B5C;\n",
              "      box-shadow: 0px 1px 3px 1px rgba(0, 0, 0, 0.15);\n",
              "      filter: drop-shadow(0px 1px 2px rgba(0, 0, 0, 0.3));\n",
              "      fill: #FFFFFF;\n",
              "    }\n",
              "  </style>\n",
              "\n",
              "    <script>\n",
              "      const buttonEl =\n",
              "        document.querySelector('#df-24ebff43-e481-447d-915d-1ad39edc706b button.colab-df-convert');\n",
              "      buttonEl.style.display =\n",
              "        google.colab.kernel.accessAllowed ? 'block' : 'none';\n",
              "\n",
              "      async function convertToInteractive(key) {\n",
              "        const element = document.querySelector('#df-24ebff43-e481-447d-915d-1ad39edc706b');\n",
              "        const dataTable =\n",
              "          await google.colab.kernel.invokeFunction('convertToInteractive',\n",
              "                                                    [key], {});\n",
              "        if (!dataTable) return;\n",
              "\n",
              "        const docLinkHtml = 'Like what you see? Visit the ' +\n",
              "          '<a target=\"_blank\" href=https://colab.research.google.com/notebooks/data_table.ipynb>data table notebook</a>'\n",
              "          + ' to learn more about interactive tables.';\n",
              "        element.innerHTML = '';\n",
              "        dataTable['output_type'] = 'display_data';\n",
              "        await google.colab.output.renderOutput(dataTable, element);\n",
              "        const docLink = document.createElement('div');\n",
              "        docLink.innerHTML = docLinkHtml;\n",
              "        element.appendChild(docLink);\n",
              "      }\n",
              "    </script>\n",
              "  </div>\n",
              "\n",
              "\n",
              "    </div>\n",
              "  </div>\n"
            ],
            "application/vnd.google.colaboratory.intrinsic+json": {
              "type": "dataframe",
              "summary": "{\n  \"name\": \"plt\",\n  \"rows\": 1,\n  \"fields\": [\n    {\n      \"column\": \"Model\",\n      \"properties\": {\n        \"dtype\": \"string\",\n        \"num_unique_values\": 1,\n        \"samples\": [\n          \"Random Forest (Raw Data)\"\n        ],\n        \"semantic_type\": \"\",\n        \"description\": \"\"\n      }\n    },\n    {\n      \"column\": \"Accuracy\",\n      \"properties\": {\n        \"dtype\": \"number\",\n        \"std\": null,\n        \"min\": 1.0,\n        \"max\": 1.0,\n        \"num_unique_values\": 1,\n        \"samples\": [\n          1.0\n        ],\n        \"semantic_type\": \"\",\n        \"description\": \"\"\n      }\n    },\n    {\n      \"column\": \"F1-Score\",\n      \"properties\": {\n        \"dtype\": \"number\",\n        \"std\": null,\n        \"min\": 1.0,\n        \"max\": 1.0,\n        \"num_unique_values\": 1,\n        \"samples\": [\n          1.0\n        ],\n        \"semantic_type\": \"\",\n        \"description\": \"\"\n      }\n    },\n    {\n      \"column\": \"Training Time (s)\",\n      \"properties\": {\n        \"dtype\": \"number\",\n        \"std\": null,\n        \"min\": 203.41791105270386,\n        \"max\": 203.41791105270386,\n        \"num_unique_values\": 1,\n        \"samples\": [\n          203.41791105270386\n        ],\n        \"semantic_type\": \"\",\n        \"description\": \"\"\n      }\n    }\n  ]\n}"
            }
          },
          "metadata": {}
        },
        {
          "output_type": "display_data",
          "data": {
            "text/plain": [
              "<Figure size 600x600 with 3 Axes>"
            ],
            "image/png": "[encoded data removed]"
          },
          "metadata": {}
        }
      ]
    },
    {
      "cell_type": "markdown",
      "source": [
        "# **CELL: TO SAVE THE BEST MODEL:**"
      ],
      "metadata": {
        "id": "4ZpYMyg9vbm6"
      }
    },
    {
      "cell_type": "markdown",
      "source": [
        "# Cell Output:\n",
        "\n",
        "SAVING BEST RANDOM FOREST MODEL AND SCALER\n",
        "\n",
        "Saved Random Forest model (Raw Data) as /content/drive/MyDrive/Colab Notebooks/ML_Models/1_Baseline/baseline_rf.pkl\n",
        "\n",
        "Fitting and saving scaler for raw data...\n",
        "Saved scaler as /content/drive/MyDrive/Colab Notebooks/ML_Models/1_Baseline/baseline_rf_scaler.pkl\n",
        "\n",
        "Model and scaler saved successfully for deployment."
      ],
      "metadata": {
        "id": "e3wxB_5ZPK9s"
      }
    },
    {
      "cell_type": "code",
      "metadata": {
        "id": "a91bfc34"
      },
      "source": [
        "# Step 15 (New): Evaluate Balanced Accuracy\n",
        "\n",
        "from sklearn.metrics import balanced_accuracy_score\n",
        "\n",
        "print(\"\\n\" + \"=\"*50)\n",
        "print(\"EVALUATING BALANCED ACCURACY (RAW DATA RF)\")\n",
        "print(\"=\"*50)\n",
        "\n",
        "# Calculate balanced accuracy\n",
        "rf_balanced_accuracy_raw = balanced_accuracy_score(y_test, rf_pred_raw)\n",
        "\n",
        "print(f\"\\nBalanced Accuracy (Raw Data RF): {rf_balanced_accuracy_raw:.4f}\")\n",
        "\n",
        "# You might want to add this to your comparison_df later\n",
        "# For now, just printing the value"
      ],
      "execution_count": null,
      "outputs": []
    },
    {
      "cell_type": "markdown",
      "metadata": {
        "id": "690ce80c"
      },
      "source": [
        "# Task\n",
        "Generate visualizations including the ROC curve and precision-recall curve for the trained Random Forest model to better understand its performance."
      ]
    },
    {
      "cell_type": "markdown",
      "metadata": {
        "id": "46c41f87"
      },
      "source": [
        "## Calculate prediction probabilities\n",
        "\n",
        "### Subtask:\n",
        "Get the probability scores for the positive class (malware) from the trained Random Forest model on the test set.\n"
      ]
    },
    {
      "cell_type": "markdown",
      "metadata": {
        "id": "4aad06d0"
      },
      "source": [
        "**Reasoning**:\n",
        "Use the trained Random Forest model to get the probability scores for the positive class on the test set.\n",
        "\n"
      ]
    },
    {
      "cell_type": "code",
      "metadata": {
        "colab": {
          "base_uri": "https://localhost:8080/"
        },
        "id": "62b836cb",
        "outputId": "615be360-20f9-4f30-f247-683acfb0807f"
      },
      "source": [
        "# Step 11 (New): Get probability scores for the positive class\n",
        "\n",
        "print(\"\\n\" + \"=\"*50)\n",
        "print(\"GENERATING PROBABILITY SCORES (RAW DATA RF)\")\n",
        "print(\"=\"*50)\n",
        "\n",
        "# Get prediction probabilities for the test set\n",
        "# The output is an array where each row corresponds to a sample, and columns are probabilities for each class.\n",
        "# The order of columns corresponds to the order of classes in rf_model_raw.classes_\n",
        "# Assuming class 0 is Benign and class 1 is Malware, the probability of Malware is the second column (index 1).\n",
        "rf_pred_proba_raw = rf_model_raw.predict_proba(X_test)[:, 1]\n",
        "\n",
        "print(f\"\\nGenerated {len(rf_pred_proba_raw)} probability scores.\")\n",
        "print(\"Sample probability scores:\", rf_pred_proba_raw[:10])"
      ],
      "execution_count": null,
      "outputs": [
        {
          "output_type": "stream",
          "name": "stdout",
          "text": [
            "\n",
            "==================================================\n",
            "GENERATING PROBABILITY SCORES (RAW DATA RF)\n",
            "==================================================\n",
            "\n",
            "Generated 89000 probability scores.\n",
            "Sample probability scores: [0.99994294 0.99999566 0.         0.         0.99994294 0.\n",
            " 0.99999552 0.99999981 0.99994294 0.9999985 ]\n"
          ]
        }
      ]
    },
    {
      "cell_type": "markdown",
      "metadata": {
        "id": "e17f6c16"
      },
      "source": [
        "**Reasoning**:\n",
        "The probability scores have been successfully generated. Now, calculate the ROC curve and the Area Under the ROC Curve (AUC) using the true labels and the predicted probabilities.\n",
        "\n"
      ]
    },
    {
      "cell_type": "code",
      "metadata": {
        "colab": {
          "base_uri": "https://localhost:8080/"
        },
        "id": "4424842b",
        "outputId": "ceb83f45-e113-4123-e211-3d0e9fd7dc38"
      },
      "source": [
        "# Step 12 (New): Calculate ROC curve and AUC\n",
        "\n",
        "from sklearn.metrics import roc_curve, roc_auc_score\n",
        "\n",
        "print(\"\\n\" + \"=\"*50)\n",
        "print(\"CALCULATING ROC CURVE AND AUC (RAW DATA RF)\")\n",
        "print(\"=\"*50)\n",
        "\n",
        "# Calculate ROC curve points (False Positive Rate, True Positive Rate, Thresholds)\n",
        "fpr_rf_raw, tpr_rf_raw, thresholds_rf_raw = roc_curve(y_test, rf_pred_proba_raw)\n",
        "\n",
        "# Calculate Area Under the ROC Curve (AUC)\n",
        "auc_rf_raw = roc_auc_score(y_test, rf_pred_proba_raw)\n",
        "\n",
        "print(f\"\\nCalculated ROC curve points and AUC.\")\n",
        "print(f\"AUC (Raw Data RF): {auc_rf_raw:.4f}\")"
      ],
      "execution_count": null,
      "outputs": [
        {
          "output_type": "stream",
          "name": "stdout",
          "text": [
            "\n",
            "==================================================\n",
            "CALCULATING ROC CURVE AND AUC (RAW DATA RF)\n",
            "==================================================\n",
            "\n",
            "Calculated ROC curve points and AUC.\n",
            "AUC (Raw Data RF): 1.0000\n"
          ]
        }
      ]
    },
    {
      "cell_type": "markdown",
      "metadata": {
        "id": "74f18baa"
      },
      "source": [
        "**Reasoning**:\n",
        "Calculate the Precision-Recall curve and the Area Under the Precision-Recall Curve (AUPRC) using the true labels and the predicted probabilities.\n",
        "\n"
      ]
    },
    {
      "cell_type": "code",
      "metadata": {
        "colab": {
          "base_uri": "https://localhost:8080/"
        },
        "id": "6c4f9033",
        "outputId": "64f56ef9-e9dc-4df4-f9b7-f553ccc78139"
      },
      "source": [
        "# Step 13 (New): Calculate Precision-Recall curve and AUPRC\n",
        "\n",
        "from sklearn.metrics import precision_recall_curve, average_precision_score\n",
        "\n",
        "print(\"\\n\" + \"=\"*50)\n",
        "print(\"CALCULATING PRECISION-RECALL CURVE AND AUPRC (RAW DATA RF)\")\n",
        "print(\"=\"*50)\n",
        "\n",
        "# Calculate Precision-Recall curve points (Precision, Recall, Thresholds)\n",
        "precision_rf_raw, recall_rf_raw, thresholds_pr_rf_raw = precision_recall_curve(y_test, rf_pred_proba_raw)\n",
        "\n",
        "# Calculate Area Under the Precision-Recall Curve (AUPRC)\n",
        "auprc_rf_raw = average_precision_score(y_test, rf_pred_proba_raw)\n",
        "\n",
        "print(f\"\\nCalculated Precision-Recall curve points and AUPRC.\")\n",
        "print(f\"AUPRC (Raw Data RF): {auprc_rf_raw:.4f}\")"
      ],
      "execution_count": null,
      "outputs": [
        {
          "output_type": "stream",
          "name": "stdout",
          "text": [
            "\n",
            "==================================================\n",
            "CALCULATING PRECISION-RECALL CURVE AND AUPRC (RAW DATA RF)\n",
            "==================================================\n",
            "\n",
            "Calculated Precision-Recall curve points and AUPRC.\n",
            "AUPRC (Raw Data RF): 1.0000\n"
          ]
        }
      ]
    },
    {
      "cell_type": "markdown",
      "metadata": {
        "id": "e3124b12"
      },
      "source": [
        "**Reasoning**:\n",
        "Visualize the calculated ROC curve and Precision-Recall curve to visually assess the model's performance.\n",
        "\n"
      ]
    },
    {
      "cell_type": "code",
      "metadata": {
        "colab": {
          "base_uri": "https://localhost:8080/",
          "height": 576
        },
        "id": "272bc736",
        "outputId": "0b22175f-bf2e-47c3-bb1b-deaa9e38457b"
      },
      "source": [
        "# Step 14 (New): Visualize ROC and Precision-Recall curves\n",
        "\n",
        "print(\"\\n\" + \"=\"*50)\n",
        "print(\"VISUALIZING ROC AND PRECISION-RECALL CURVES (RAW DATA RF)\")\n",
        "print(\"=\"*50)\n",
        "\n",
        "# Ensure prediction probabilities are available\n",
        "if 'rf_pred_proba_raw' not in locals():\n",
        "    # Assuming rf_model_raw and X_test are available from previous steps\n",
        "    rf_pred_proba_raw = rf_model_raw.predict_proba(X_test)[:, 1]\n",
        "\n",
        "# Calculate ROC curve points (False Positive Rate, True Positive Rate, Thresholds)\n",
        "from sklearn.metrics import roc_curve, roc_auc_score\n",
        "fpr_rf_raw, tpr_rf_raw, thresholds_rf_raw = roc_curve(y_test, rf_pred_proba_raw)\n",
        "\n",
        "# Calculate Area Under the ROC Curve (AUC)\n",
        "auc_rf_raw = roc_auc_score(y_test, rf_pred_proba_raw)\n",
        "\n",
        "# Calculate Precision-Recall curve points (Precision, Recall, Thresholds)\n",
        "from sklearn.metrics import precision_recall_curve, average_precision_score\n",
        "precision_rf_raw, recall_rf_raw, thresholds_pr_rf_raw = precision_recall_curve(y_test, rf_pred_proba_raw)\n",
        "\n",
        "# Calculate Area Under the Precision-Recall Curve (AUPRC)\n",
        "auprc_rf_raw = average_precision_score(y_test, rf_pred_proba_raw)\n",
        "\n",
        "# Plot ROC curve\n",
        "plt.figure(figsize=(12, 5))\n",
        "\n",
        "plt.subplot(1, 2, 1)\n",
        "plt.plot(fpr_rf_raw, tpr_rf_raw, color='darkorange', lw=2, label=f'ROC curve (AUC = {auc_rf_raw:.2f})')\n",
        "plt.plot([0, 1], [0, 1], color='navy', lw=2, linestyle='--')\n",
        "plt.xlim([0.0, 1.0])\n",
        "plt.ylim([0.0, 1.05])\n",
        "plt.xlabel('False Positive Rate')\n",
        "plt.ylabel('True Positive Rate')\n",
        "plt.title('Receiver Operating Characteristic (ROC) Curve (Raw Data RF)')\n",
        "plt.legend(loc=\"lower right\")\n",
        "plt.grid(True)\n",
        "\n",
        "# Plot Precision-Recall curve\n",
        "plt.subplot(1, 2, 2)\n",
        "plt.plot(recall_rf_raw, precision_rf_raw, color='blue', lw=2, label=f'PR curve (AUPRC = {auprc_rf_raw:.2f})')\n",
        "plt.xlabel('Recall')\n",
        "plt.ylabel('Precision')\n",
        "plt.title('Precision-Recall Curve (Raw Data RF)')\n",
        "plt.legend(loc=\"lower left\")\n",
        "plt.grid(True)\n",
        "\n",
        "plt.tight_layout()\n",
        "plt.show()"
      ],
      "execution_count": null,
      "outputs": [
        {
          "output_type": "stream",
          "name": "stdout",
          "text": [
            "\n",
            "==================================================\n",
            "VISUALIZING ROC AND PRECISION-RECALL CURVES (RAW DATA RF)\n",
            "==================================================\n"
          ]
        },
        {
          "output_type": "display_data",
          "data": {
            "text/plain": [
              "<Figure size 1200x500 with 2 Axes>"
            ],
            "image/png": "[encoded data removed]"
          },
          "metadata": {}
        }
      ]
    },
    {
      "cell_type": "markdown",
      "metadata": {
        "id": "99c0b9ec"
      },
      "source": [
        "## Stratified K-Fold Cross-Validation\n",
        "\n",
        "### Subtask:\n",
        "Perform 5-fold StratifiedKFold cross-validation on the raw data using the Random Forest model and report the average metrics."
      ]
    },
    {
      "cell_type": "code",
      "metadata": {
        "colab": {
          "base_uri": "https://localhost:8080/"
        },
        "id": "2925c735",
        "outputId": "ea397f13-3e99-4ff8-b60c-02ca1bdea37e"
      },
      "source": [
        "%time\n",
        "# Step 6 (New): Perform Stratified K-Fold Cross-Validation\n",
        "\n",
        "print(\"\\n\" + \"=\"*50)\n",
        "print(\"PERFORMING STRATIFIED K-FOLD CROSS-VALIDATION (RAW DATA RF)\")\n",
        "print(\"=\"*50)\n",
        "\n",
        "# Initialize StratifiedKFold\n",
        "skf = StratifiedKFold(n_splits=5, shuffle=True, random_state=42)\n",
        "\n",
        "# Initialize lists to store scores\n",
        "accuracy_scores = []\n",
        "f1_scores = []\n",
        "roc_auc_scores = []\n",
        "\n",
        "# Perform cross-validation\n",
        "print(\"\\nStarting cross-validation...\")\n",
        "start_time_cv = time.time()\n",
        "\n",
        "for fold, (train_index, test_index) in enumerate(skf.split(X, y)):\n",
        "    print(f\"  Processing Fold {fold+1}/5...\")\n",
        "    X_train_fold, X_test_fold = X.iloc[train_index], X.iloc[test_index]\n",
        "    y_train_fold, y_test_fold = y.iloc[train_index], y.iloc[test_index]\n",
        "\n",
        "    # Initialize and train a new Random Forest model for each fold\n",
        "    rf_model_cv = RandomForestClassifier(\n",
        "        n_estimators=100,\n",
        "        max_depth=20,\n",
        "        min_samples_split=5,\n",
        "        min_samples_leaf=2,\n",
        "        random_state=42, # Use the same random state for reproducibility across folds\n",
        "        n_jobs=-1\n",
        "    )\n",
        "\n",
        "    rf_model_cv.fit(X_train_fold, y_train_fold)\n",
        "\n",
        "    # Predict and evaluate on the test fold\n",
        "    y_pred_fold = rf_model_cv.predict(X_test_fold)\n",
        "    y_pred_proba_fold = rf_model_cv.predict_proba(X_test_fold)[:, 1]\n",
        "\n",
        "    accuracy_scores.append(accuracy_score(y_test_fold, y_pred_fold))\n",
        "    f1_scores.append(f1_score(y_test_fold, y_pred_fold, average='weighted'))\n",
        "    roc_auc_scores.append(roc_auc_score(y_test_fold, y_pred_proba_fold))\n",
        "\n",
        "rf_cv_time_raw = time.time() - start_time_cv\n",
        "print(\"Cross-validation finished.\")\n",
        "\n",
        "# Report average scores\n",
        "print(f\"\\nAverage Accuracy (5-Fold CV, Raw Data RF): {np.mean(accuracy_scores):.4f} ± {np.std(accuracy_scores):.4f}\")\n",
        "print(f\"Average F1-score (5-Fold CV, Raw Data RF): {np.mean(f1_scores):.4f} ± {np.std(f1_scores):.4f}\")\n",
        "print(f\"Average ROC AUC (5-Fold CV, Raw Data RF): {np.mean(roc_auc_scores):.4f} ± {np.std(roc_auc_scores):.4f}\")\n",
        "print(f\"Cross-validation time: {rf_cv_time_raw:.2f} seconds\")"
      ],
      "execution_count": null,
      "outputs": [
        {
          "output_type": "stream",
          "name": "stdout",
          "text": [
            "\n",
            "==================================================\n",
            "PERFORMING STRATIFIED K-FOLD CROSS-VALIDATION (RAW DATA RF)\n",
            "==================================================\n",
            "\n",
            "Starting cross-validation...\n",
            "  Processing Fold 1/5...\n",
            "  Processing Fold 2/5...\n",
            "  Processing Fold 3/5...\n",
            "  Processing Fold 4/5...\n",
            "  Processing Fold 5/5...\n",
            "Cross-validation finished.\n",
            "\n",
            "Average Accuracy (5-Fold CV, Raw Data RF): 0.9999 ± 0.0001\n",
            "Average F1-score (5-Fold CV, Raw Data RF): 0.9999 ± 0.0001\n",
            "Average ROC AUC (5-Fold CV, Raw Data RF): 1.0000 ± 0.0000\n",
            "Cross-validation time: 145.76 seconds\n"
          ]
        }
      ]
    },
    {
      "cell_type": "markdown",
      "metadata": {
        "id": "10b4acef"
      },
      "source": [
        "## Evaluate Balanced Accuracy\n",
        "\n",
        "### Subtask:\n",
        "Calculate the balanced accuracy score for the model on the test set. Balanced accuracy is a suitable metric for imbalanced datasets as it accounts for the performance on both the majority and minority classes."
      ]
    },
    {
      "cell_type": "code",
      "metadata": {
        "colab": {
          "base_uri": "https://localhost:8080/"
        },
        "id": "2648bde7",
        "outputId": "3d00929e-d0ef-4c81-8dbd-8b66a5c1cc94"
      },
      "source": [
        "%time\n",
        "# Step 15 (New): Evaluate Balanced Accuracy\n",
        "\n",
        "from sklearn.metrics import balanced_accuracy_score\n",
        "\n",
        "print(\"\\n\" + \"=\"*50)\n",
        "print(\"EVALUATING BALANCED ACCURACY (RAW DATA RF)\")\n",
        "print(\"=\"*50)\n",
        "\n",
        "# Calculate balanced accuracy\n",
        "rf_balanced_accuracy_raw = balanced_accuracy_score(y_test, rf_pred_raw)\n",
        "\n",
        "print(f\"\\nBalanced Accuracy (Raw Data RF): {rf_balanced_accuracy_raw:.4f}\")\n",
        "\n",
        "# You might want to add this to your comparison_df later\n",
        "# For now, just printing the value"
      ],
      "execution_count": null,
      "outputs": [
        {
          "output_type": "stream",
          "name": "stdout",
          "text": [
            "\n",
            "==================================================\n",
            "EVALUATING BALANCED ACCURACY (RAW DATA RF)\n",
            "==================================================\n",
            "\n",
            "Balanced Accuracy (Raw Data RF): 1.0000\n"
          ]
        }
      ]
    },
    {
      "cell_type": "code",
      "source": [
        "%time\n",
        "# Step 9a: Save the best performing Random Forest model and performance data\n",
        "print(\"\\n\" + \"=\"*50)\n",
        "print(\"SAVING RANDOM FOREST (RAW DATA) PERFORMANCE DATA AND MODEL\")\n",
        "print(\"=\"*50)\n",
        "\n",
        "# Define the directory to save performance data and models\n",
        "ARTIFACTS_SAVE_DIR = '/content/drive/MyDrive/Colab Notebooks/ML_Models/1_Baseline_RawData/model_performance' # Updated directory\n",
        "\n",
        "os.makedirs(ARTIFACTS_SAVE_DIR, exist_ok=True) # Ensure the directory exists\n",
        "\n",
        "# Recalculate metrics needed for saving if they are not guaranteed to be in the kernel state\n",
        "# Get prediction probabilities for the test set if not already available\n",
        "if 'rf_pred_proba_raw' not in locals():\n",
        "    rf_pred_proba_raw = rf_model_raw.predict_proba(X_test)[:, 1]\n",
        "\n",
        "# Calculate ROC AUC if not already available\n",
        "if 'auc_rf_raw' not in locals():\n",
        "    from sklearn.metrics import roc_auc_score\n",
        "    auc_rf_raw = roc_auc_score(y_test, rf_pred_proba_raw)\n",
        "\n",
        "# Calculate AUPRC if not already available\n",
        "if 'auprc_rf_raw' not in locals():\n",
        "    from sklearn.metrics import average_precision_score\n",
        "    auprc_rf_raw = average_precision_score(y_test, rf_pred_proba_raw)\n",
        "\n",
        "\n",
        "# Define a dictionary to store the performance metrics for the Raw Data RF model\n",
        "rf_performance_data = {\n",
        "    \"model_name\": \"Random Forest (Raw Data)\",\n",
        "    \"accuracy\": rf_accuracy_raw,\n",
        "    \"f1_score\": rf_f1_raw,\n",
        "    \"training_time\": rf_train_time_raw,\n",
        "    \"roc_auc_score\": auc_rf_raw,\n",
        "    \"auprc\": auprc_rf_raw, # Add AUPRC\n",
        "    \"confusion_matrix\": cm_rf_raw.tolist(),\n",
        "    \"average_accuracy_cv\": np.mean(accuracy_scores), # Add CV results\n",
        "    \"average_f1_cv\": np.mean(f1_scores),           # Add CV results\n",
        "    \"average_roc_auc_cv\": np.mean(roc_auc_scores)  # Add CV results\n",
        "}\n",
        "\n",
        "# Save the RF performance data to a JSON file\n",
        "rf_performance_filename = os.path.join(ARTIFACTS_SAVE_DIR, \"rf_raw_data_performance.json\")\n",
        "import json\n",
        "with open(rf_performance_filename, 'w') as f:\n",
        "    json.dump(rf_performance_data, f, indent=4)\n",
        "\n",
        "print(f\"\\nSaved Random Forest (Raw Data) performance data to: {rf_performance_filename}\")\n",
        "\n",
        "# Define filename for the model within the save directory\n",
        "rf_model_filename = os.path.join(ARTIFACTS_SAVE_DIR, \"baseline_rf_raw_data_model.pkl\") # Updated filename\n",
        "\n",
        "# Save the trained Random Forest model (the raw data one)\n",
        "joblib.dump(rf_model_raw, rf_model_filename)\n",
        "print(f\"Saved Random Forest model (Raw Data) as {rf_model_filename}\")\n",
        "\n",
        "# For the raw data model, a scaler was not applied, so we don't need to save one.\n",
        "# If you were to use this model for prediction, the new data should also NOT be scaled.\n",
        "\n",
        "print(\"\\nModel and performance data saved successfully for deployment.\")"
      ],
      "metadata": {
        "colab": {
          "base_uri": "https://localhost:8080/"
        },
        "id": "wiZMAJnItx2f",
        "outputId": "b9d67945-6c83-49e8-82e1-122c2075dc0d"
      },
      "execution_count": null,
      "outputs": [
        {
          "output_type": "stream",
          "name": "stdout",
          "text": [
            "\n",
            "==================================================\n",
            "SAVING RANDOM FOREST (RAW DATA) PERFORMANCE DATA AND MODEL\n",
            "==================================================\n",
            "\n",
            "Saved Random Forest (Raw Data) performance data to: /content/drive/MyDrive/Colab Notebooks/ML_Performance/1_Baseline_RawData/rf_raw_data_performance.json\n",
            "Saved Random Forest model (Raw Data) as /content/drive/MyDrive/Colab Notebooks/ML_Performance/1_Baseline_RawData/baseline_rf_raw_data_model.pkl\n",
            "\n",
            "Model and performance data saved successfully for deployment.\n"
          ]
        }
      ]
    },
    {
      "cell_type": "code",
      "metadata": {
        "id": "4cd7aa49"
      },
      "source": [
        "# Step 7a (New): Log resource usage before training\n",
        "\n",
        "import psutil\n",
        "from datetime import datetime\n",
        "import os\n",
        "import pandas as pd\n",
        "\n",
        "# Define the directory to save resource usage logs\n",
        "LOGS_DIR = '/content/drive/MyDrive/Colab Notebooks/ML_Models/1_Baseline_RawData/model_resource_usage' # Specified path\n",
        "os.makedirs(LOGS_DIR, exist_ok=True) # Create the directory if it doesn't exist\n",
        "\n",
        "# Define the log file path\n",
        "timestamp = datetime.now().strftime('%Y%m%d_%H%M%S')\n",
        "LOG_FILE_PATH = os.path.join(LOGS_DIR, f'resource_usage_log_{timestamp}.csv') # Unique filename per run\n",
        "\n",
        "print(\"\\n\" + \"=\"*50)\n",
        "print(\"LOGGING RESOURCE USAGE BEFORE TRAINING\")\n",
        "print(\"=\"*50)\n",
        "\n",
        "# Measure resource usage before training\n",
        "cpu_percent_before = psutil.cpu_percent(interval=1) # Measure CPU usage over 1 second\n",
        "memory_before = psutil.virtual_memory().used / (1024 ** 2) # Memory usage in MB\n",
        "\n",
        "# Prepare data to be logged\n",
        "log_data_before = {\n",
        "    'timestamp': datetime.now().isoformat(),\n",
        "    'event': 'before_training',\n",
        "    'cpu_percent': cpu_percent_before,\n",
        "    'memory_mb': memory_before\n",
        "}\n",
        "\n",
        "# Create a DataFrame for easier handling\n",
        "log_df_before = pd.DataFrame([log_data_before])\n",
        "\n",
        "# Check if file exists to write header\n",
        "if not os.path.exists(LOG_FILE_PATH):\n",
        "    log_df_before.to_csv(LOG_FILE_PATH, index=False, mode='w')\n",
        "else:\n",
        "    log_df_before.to_csv(LOG_FILE_PATH, index=False, mode='a', header=False)\n",
        "\n",
        "print(f\"\\nResource usage before training logged to: {LOG_FILE_PATH}\")"
      ],
      "execution_count": null,
      "outputs": []
    },
    {
      "cell_type": "code",
      "source": [
        "%time\n",
        "# Step 9a: Save the best performing Random Forest model and scaler\n",
        "print(\"\\n\" + \"=\"*50)\n",
        "print(\"SAVING BEST RANDOM FOREST MODEL AND SCALER\")\n",
        "print(\"=\"*50)\n",
        "\n",
        "# Define the base path for saving models\n",
        "MODEL_SAVE_DIR = '/content/drive/MyDrive/Colab Notebooks/ML_Models/1_Baseline_BROKEN'\n",
        "os.makedirs(MODEL_SAVE_DIR, exist_ok=True) # Ensure the directory exists\n",
        "\n",
        "# Define filenames for the model and scaler within the save directory\n",
        "rf_model_filename = os.path.join(MODEL_SAVE_DIR, \"baseline_rf.pkl\")\n",
        "scaler_filename = os.path.join(MODEL_SAVE_DIR, \"baseline_rf_scaler.pkl\")\n",
        "\n",
        "# Save the trained Random Forest model (the raw data one)\n",
        "joblib.dump(rf_model_raw, rf_model_filename)\n",
        "print(f\"\\nSaved Random Forest model (Raw Data) as {rf_model_filename}\")\n",
        "\n",
        "# Since the raw data model was not scaled, saving a scaler trained on raw data might be useful\n",
        "# for consistency if prediction data will be scaled. Let's fit and save a scaler on the raw training data.\n",
        "# If you prefer NOT to save a scaler for the raw model, you can comment out the following lines.\n",
        "print(\"\\nFitting and saving scaler for raw data...\")\n",
        "scaler_raw = StandardScaler()\n",
        "# Fit on the original, unscaled training data\n",
        "scaler_raw.fit(X_train)\n",
        "joblib.dump(scaler_raw, scaler_filename)\n",
        "print(f\"Saved scaler as {scaler_filename}\")\n",
        "\n",
        "\n",
        "print(\"\\nModel and scaler saved successfully for deployment.\")"
      ],
      "metadata": {
        "colab": {
          "base_uri": "https://localhost:8080/"
        },
        "id": "OleCIpPBQqj7",
        "outputId": "7e5fdff8-a692-4fd7-9599-c4b92a13680b"
      },
      "execution_count": null,
      "outputs": [
        {
          "output_type": "stream",
          "name": "stdout",
          "text": [
            "\n",
            "==================================================\n",
            "SAVING BEST RANDOM FOREST MODEL AND SCALER\n",
            "==================================================\n",
            "\n",
            "Saved Random Forest model (Raw Data) as /content/drive/MyDrive/Colab Notebooks/ML_Models/1_Baseline/baseline_rf.pkl\n",
            "\n",
            "Fitting and saving scaler for raw data...\n",
            "Saved scaler as /content/drive/MyDrive/Colab Notebooks/ML_Models/1_Baseline/baseline_rf_scaler.pkl\n",
            "\n",
            "Model and scaler saved successfully for deployment.\n"
          ]
        }
      ]
    },
    {
      "cell_type": "markdown",
      "metadata": {
        "id": "f3fe57de"
      },
      "source": [
        "# 3 Cyble Testing\n",
        "Add a code cell at the end that makes the whole notebook run 3 times in total and add timestamps to each cell."
      ]
    },
    {
      "cell_type": "markdown",
      "metadata": {
        "id": "7e178b81"
      },
      "source": [
        "## Load the notebook\n",
        "\n",
        "### Subtask:\n",
        "Load the current notebook file programmatically.\n"
      ]
    },
    {
      "cell_type": "code",
      "metadata": {
        "colab": {
          "base_uri": "https://localhost:8080/"
        },
        "id": "bd1ef2cf",
        "outputId": "bf453944-8f1b-4ba3-a420-6d3b0e041f1f"
      },
      "source": [
        "%time\n",
        "# Step 16a: Load the current notebook programmatically\n",
        "\n",
        "import nbformat\n",
        "import os\n",
        "\n",
        "# Define the path to the current notebook file\n",
        "# IMPORTANT: Replace 'Your_Actual_Notebook_Name.ipynb' with the actual name of *this* notebook file.\n",
        "# If you are running this in a Colab notebook, the path will likely be in your Google Drive.\n",
        "# Based on the data path used earlier, a common location is '/content/drive/MyDrive/Colab Notebooks/'.\n",
        "# The name of the notebook might be related to the task description.\n",
        "# Assuming the notebook name is 'IoT_Malware_Detection_RawData.ipynb' based on the main task title.\n",
        "# *** Please verify and replace this path with the actual path to this notebook file if it fails ***\n",
        "NOTEBOOK_PATH = '/content/drive/MyDrive/Colab Notebooks/ML_Models/1_Baseline_BROKEN/Evaluate_Random_Forest_on_Raw_Data.ipynb' # Assuming a name based on the overall task\n",
        "\n",
        "print(f\"\\nLoading notebook from: {NOTEBOOK_PATH}\")\n",
        "\n",
        "try:\n",
        "    # Open and read the notebook file\n",
        "    with open(NOTEBOOK_PATH, 'r') as f:\n",
        "        notebook_content = nbformat.read(f, as_version=4)\n",
        "\n",
        "    print(\"\\nNotebook loaded successfully.\")\n",
        "    # The loaded notebook content is now in the 'notebook_content' variable\n",
        "\n",
        "except FileNotFoundError:\n",
        "    print(f\"\\nError: Notebook file not found at {NOTEBOOK_PATH}\")\n",
        "    print(\"Please update the NOTEBOOK_PATH variable in the code cell with the correct path to this notebook file.\")\n",
        "    notebook_content = None # Set to None if loading fails\n",
        "except Exception as e:\n",
        "    print(f\"\\nAn error occurred while loading the notebook: {e}\")\n",
        "    notebook_content = None # Set to None if loading fails\n",
        "\n",
        "# Check if notebook was loaded before proceeding (optional but good practice)\n",
        "if notebook_content is not None:\n",
        "    print(f\"\\nNotebook has {len(notebook_content.cells)} cells.\")\n",
        "else:\n",
        "    print(\"\\nNotebook content is not available.\")"
      ],
      "execution_count": null,
      "outputs": [
        {
          "output_type": "stream",
          "name": "stdout",
          "text": [
            "\n",
            "Loading notebook from: /content/drive/MyDrive/Colab Notebooks/ML_Models/1_Baseline_BROKEN/Evaluate_Random_Forest_on_Raw_Data.ipynb\n",
            "\n",
            "Notebook loaded successfully.\n",
            "\n",
            "Notebook has 51 cells.\n"
          ]
        }
      ]
    },
    {
      "cell_type": "markdown",
      "metadata": {
        "id": "9e0dd882"
      },
      "source": [
        "## Iterate and execute\n",
        "\n",
        "### Subtask:\n",
        "Loop through the notebook cells, execute code cells, and add timestamps before and after execution for three runs."
      ]
    },
    {
      "cell_type": "code",
      "metadata": {
        "colab": {
          "base_uri": "https://localhost:8080/"
        },
        "id": "d9d5fbdb",
        "outputId": "3354d45a-7ce0-4b7a-c62f-60fda2e37b58"
      },
      "source": [
        "%time\n",
        "# Step 16b: Iterate and execute cells\n",
        "\n",
        "import time\n",
        "from nbclient import NotebookClient\n",
        "\n",
        "if notebook_content is not None:\n",
        "    # Create a NotebookClient\n",
        "    # Set timeout to None to allow cells to run as long as needed\n",
        "    client = NotebookClient(notebook_content, timeout=None, kernel_name='python3')\n",
        "\n",
        "    # Define the number of runs\n",
        "    # Changed from 3 to 2 as requested, so the total runs including the initial one will be 3\n",
        "    num_runs = 2\n",
        "\n",
        "    for run_number in range(1, num_runs + 1):\n",
        "        print(f\"\\n\" + \"=\"*50)\n",
        "        print(f\"STARTING RUN {run_number}/{num_runs}\")\n",
        "        print(\"=\"*50)\n",
        "\n",
        "        # Re-execute the notebook\n",
        "        # This will run all cells from the beginning in each iteration\n",
        "        executed_notebook = client.execute()\n",
        "\n",
        "        # Note: Timestamping logic has been removed as per user request.\n",
        "        # The 'executed_notebook' variable now contains the notebook with outputs from the last run.\n",
        "        # We will save this in the next step.\n",
        "\n",
        "\n",
        "        print(f\"\\n\" + \"=\"*50)\n",
        "        print(f\"FINISHED RUN {run_number}/{num_runs}\")\n",
        "        print(\"=\"*50)\n",
        "\n",
        "else:\n",
        "    print(\"\\nSkipping execution as notebook was not loaded successfully.\")"
      ],
      "execution_count": null,
      "outputs": [
        {
          "output_type": "stream",
          "name": "stdout",
          "text": [
            "\n",
            "==================================================\n",
            "STARTING RUN 1/3\n",
            "==================================================\n"
          ]
        },
        {
          "output_type": "error",
          "ename": "KeyboardInterrupt",
          "evalue": "",
          "traceback": [
            "\u001b[0;31m---------------------------------------------------------------------------\u001b[0m",
            "\u001b[0;31mKeyboardInterrupt\u001b[0m                         Traceback (most recent call last)",
            "\u001b[0;32m/tmp/ipython-input-434940299.py\u001b[0m in \u001b[0;36m<cell line: 0>\u001b[0;34m()\u001b[0m\n\u001b[1;32m     19\u001b[0m         \u001b[0;31m# Re-execute the notebook\u001b[0m\u001b[0;34m\u001b[0m\u001b[0;34m\u001b[0m\u001b[0m\n\u001b[1;32m     20\u001b[0m         \u001b[0;31m# This will run all cells from the beginning in each iteration\u001b[0m\u001b[0;34m\u001b[0m\u001b[0;34m\u001b[0m\u001b[0m\n\u001b[0;32m---> 21\u001b[0;31m         \u001b[0mexecuted_notebook\u001b[0m \u001b[0;34m=\u001b[0m \u001b[0mclient\u001b[0m\u001b[0;34m.\u001b[0m\u001b[0mexecute\u001b[0m\u001b[0;34m(\u001b[0m\u001b[0;34m)\u001b[0m\u001b[0;34m\u001b[0m\u001b[0;34m\u001b[0m\u001b[0m\n\u001b[0m\u001b[1;32m     22\u001b[0m \u001b[0;34m\u001b[0m\u001b[0m\n\u001b[1;32m     23\u001b[0m         \u001b[0;31m# Add timestamps to each executed cell in the metadata\u001b[0m\u001b[0;34m\u001b[0m\u001b[0;34m\u001b[0m\u001b[0m\n",
            "\u001b[0;32m/usr/local/lib/python3.12/dist-packages/jupyter_core/utils/__init__.py\u001b[0m in \u001b[0;36mwrapped\u001b[0;34m(*args, **kwargs)\u001b[0m\n\u001b[1;32m    162\u001b[0m         \u001b[0;32mif\u001b[0m \u001b[0mname\u001b[0m \u001b[0;32mnot\u001b[0m \u001b[0;32min\u001b[0m \u001b[0m_runner_map\u001b[0m\u001b[0;34m:\u001b[0m\u001b[0;34m\u001b[0m\u001b[0;34m\u001b[0m\u001b[0m\n\u001b[1;32m    163\u001b[0m             \u001b[0m_runner_map\u001b[0m\u001b[0;34m[\u001b[0m\u001b[0mname\u001b[0m\u001b[0;34m]\u001b[0m \u001b[0;34m=\u001b[0m \u001b[0m_TaskRunner\u001b[0m\u001b[0;34m(\u001b[0m\u001b[0;34m)\u001b[0m\u001b[0;34m\u001b[0m\u001b[0;34m\u001b[0m\u001b[0m\n\u001b[0;32m--> 164\u001b[0;31m         \u001b[0;32mreturn\u001b[0m \u001b[0m_runner_map\u001b[0m\u001b[0;34m[\u001b[0m\u001b[0mname\u001b[0m\u001b[0;34m]\u001b[0m\u001b[0;34m.\u001b[0m\u001b[0mrun\u001b[0m\u001b[0;34m(\u001b[0m\u001b[0minner\u001b[0m\u001b[0;34m)\u001b[0m\u001b[0;34m\u001b[0m\u001b[0;34m\u001b[0m\u001b[0m\n\u001b[0m\u001b[1;32m    165\u001b[0m \u001b[0;34m\u001b[0m\u001b[0m\n\u001b[1;32m    166\u001b[0m     \u001b[0mwrapped\u001b[0m\u001b[0;34m.\u001b[0m\u001b[0m__doc__\u001b[0m \u001b[0;34m=\u001b[0m \u001b[0mcoro\u001b[0m\u001b[0;34m.\u001b[0m\u001b[0m__doc__\u001b[0m\u001b[0;34m\u001b[0m\u001b[0;34m\u001b[0m\u001b[0m\n",
            "\u001b[0;32m/usr/local/lib/python3.12/dist-packages/jupyter_core/utils/__init__.py\u001b[0m in \u001b[0;36mrun\u001b[0;34m(self, coro)\u001b[0m\n\u001b[1;32m    125\u001b[0m                 \u001b[0mself\u001b[0m\u001b[0;34m.\u001b[0m\u001b[0m__runner_thread\u001b[0m\u001b[0;34m.\u001b[0m\u001b[0mstart\u001b[0m\u001b[0;34m(\u001b[0m\u001b[0;34m)\u001b[0m\u001b[0;34m\u001b[0m\u001b[0;34m\u001b[0m\u001b[0m\n\u001b[1;32m    126\u001b[0m         \u001b[0mfut\u001b[0m \u001b[0;34m=\u001b[0m \u001b[0masyncio\u001b[0m\u001b[0;34m.\u001b[0m\u001b[0mrun_coroutine_threadsafe\u001b[0m\u001b[0;34m(\u001b[0m\u001b[0mcoro\u001b[0m\u001b[0;34m,\u001b[0m \u001b[0mself\u001b[0m\u001b[0;34m.\u001b[0m\u001b[0m__io_loop\u001b[0m\u001b[0;34m)\u001b[0m\u001b[0;34m\u001b[0m\u001b[0;34m\u001b[0m\u001b[0m\n\u001b[0;32m--> 127\u001b[0;31m         \u001b[0;32mreturn\u001b[0m \u001b[0mfut\u001b[0m\u001b[0;34m.\u001b[0m\u001b[0mresult\u001b[0m\u001b[0;34m(\u001b[0m\u001b[0;32mNone\u001b[0m\u001b[0;34m)\u001b[0m\u001b[0;34m\u001b[0m\u001b[0;34m\u001b[0m\u001b[0m\n\u001b[0m\u001b[1;32m    128\u001b[0m \u001b[0;34m\u001b[0m\u001b[0m\n\u001b[1;32m    129\u001b[0m \u001b[0;34m\u001b[0m\u001b[0m\n",
            "\u001b[0;32m/usr/lib/python3.12/concurrent/futures/_base.py\u001b[0m in \u001b[0;36mresult\u001b[0;34m(self, timeout)\u001b[0m\n\u001b[1;32m    449\u001b[0m                     \u001b[0;32mreturn\u001b[0m \u001b[0mself\u001b[0m\u001b[0;34m.\u001b[0m\u001b[0m__get_result\u001b[0m\u001b[0;34m(\u001b[0m\u001b[0;34m)\u001b[0m\u001b[0;34m\u001b[0m\u001b[0;34m\u001b[0m\u001b[0m\n\u001b[1;32m    450\u001b[0m \u001b[0;34m\u001b[0m\u001b[0m\n\u001b[0;32m--> 451\u001b[0;31m                 \u001b[0mself\u001b[0m\u001b[0;34m.\u001b[0m\u001b[0m_condition\u001b[0m\u001b[0;34m.\u001b[0m\u001b[0mwait\u001b[0m\u001b[0;34m(\u001b[0m\u001b[0mtimeout\u001b[0m\u001b[0;34m)\u001b[0m\u001b[0;34m\u001b[0m\u001b[0;34m\u001b[0m\u001b[0m\n\u001b[0m\u001b[1;32m    452\u001b[0m \u001b[0;34m\u001b[0m\u001b[0m\n\u001b[1;32m    453\u001b[0m                 \u001b[0;32mif\u001b[0m \u001b[0mself\u001b[0m\u001b[0;34m.\u001b[0m\u001b[0m_state\u001b[0m \u001b[0;32min\u001b[0m \u001b[0;34m[\u001b[0m\u001b[0mCANCELLED\u001b[0m\u001b[0;34m,\u001b[0m \u001b[0mCANCELLED_AND_NOTIFIED\u001b[0m\u001b[0;34m]\u001b[0m\u001b[0;34m:\u001b[0m\u001b[0;34m\u001b[0m\u001b[0;34m\u001b[0m\u001b[0m\n",
            "\u001b[0;32m/usr/lib/python3.12/threading.py\u001b[0m in \u001b[0;36mwait\u001b[0;34m(self, timeout)\u001b[0m\n\u001b[1;32m    353\u001b[0m         \u001b[0;32mtry\u001b[0m\u001b[0;34m:\u001b[0m    \u001b[0;31m# restore state no matter what (e.g., KeyboardInterrupt)\u001b[0m\u001b[0;34m\u001b[0m\u001b[0;34m\u001b[0m\u001b[0m\n\u001b[1;32m    354\u001b[0m             \u001b[0;32mif\u001b[0m \u001b[0mtimeout\u001b[0m \u001b[0;32mis\u001b[0m \u001b[0;32mNone\u001b[0m\u001b[0;34m:\u001b[0m\u001b[0;34m\u001b[0m\u001b[0;34m\u001b[0m\u001b[0m\n\u001b[0;32m--> 355\u001b[0;31m                 \u001b[0mwaiter\u001b[0m\u001b[0;34m.\u001b[0m\u001b[0macquire\u001b[0m\u001b[0;34m(\u001b[0m\u001b[0;34m)\u001b[0m\u001b[0;34m\u001b[0m\u001b[0;34m\u001b[0m\u001b[0m\n\u001b[0m\u001b[1;32m    356\u001b[0m                 \u001b[0mgotit\u001b[0m \u001b[0;34m=\u001b[0m \u001b[0;32mTrue\u001b[0m\u001b[0;34m\u001b[0m\u001b[0;34m\u001b[0m\u001b[0m\n\u001b[1;32m    357\u001b[0m             \u001b[0;32melse\u001b[0m\u001b[0;34m:\u001b[0m\u001b[0;34m\u001b[0m\u001b[0;34m\u001b[0m\u001b[0m\n",
            "\u001b[0;31mKeyboardInterrupt\u001b[0m: "
          ]
        }
      ]
    },
    {
      "cell_type": "markdown",
      "metadata": {
        "id": "0d33fe25"
      },
      "source": [
        "**Reasoning**:\n",
        "Iterate through the cells of the loaded notebook. For each code cell, execute it programmatically and record the start and end times. Add these timestamps to the cell's metadata or outputs."
      ]
    }
  ],
  "metadata": {
    "colab": {
      "provenance": []
    },
    "kernelspec": {
      "display_name": "Python 3",
      "name": "python3"
    },
    "language_info": {
      "name": "python"
    }
  },
  "nbformat": 4,
  "nbformat_minor": 0
}